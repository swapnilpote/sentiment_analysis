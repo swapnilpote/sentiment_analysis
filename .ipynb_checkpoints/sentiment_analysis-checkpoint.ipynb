{
 "cells": [
  {
   "cell_type": "code",
   "execution_count": null,
   "metadata": {
    "colab": {},
    "colab_type": "code",
    "id": "l486XBS9dNOh"
   },
   "outputs": [],
   "source": [
    "import numpy as np\n",
    "import pandas as pd\n",
    "import time, os, nltk\n",
    "from functools import reduce\n",
    "\n",
    "from matplotlib import pyplot as plt\n",
    "plt.rcParams[\"figure.figsize\"] = (30, 10)\n",
    "\n",
    "from keras.layers.core import Dense, Activation, Dropout\n",
    "from keras.layers.recurrent import LSTM\n",
    "from keras.models import Sequential\n",
    "from keras.preprocessing.sequence import pad_sequences\n",
    "\n",
    "from sklearn.model_selection import train_test_split"
   ]
  },
  {
   "cell_type": "markdown",
   "metadata": {},
   "source": [
    "## If you are using google colabs use following code for downloading dataset from kaggle"
   ]
  },
  {
   "cell_type": "raw",
   "metadata": {
    "colab": {
     "base_uri": "https://localhost:8080/",
     "height": 204
    },
    "colab_type": "code",
    "executionInfo": {
     "elapsed": 5521,
     "status": "ok",
     "timestamp": 1552597730567,
     "user": {
      "displayName": "Swapnil Pote",
      "photoUrl": "https://lh3.googleusercontent.com/-AQQdybn0OPI/AAAAAAAAAAI/AAAAAAAAAAg/vn6s0gcC7To/s64/photo.jpg",
      "userId": "02950903434846970885"
     },
     "user_tz": -330
    },
    "id": "RcpyEy42eT42",
    "outputId": "2a1ce0c4-fd0b-49be-f883-3a75b06dc8fc",
    "scrolled": true
   },
   "source": [
    "# Following is offical kaggle package. Check this link for API crendientials & upload it on google colabs \n",
    "# https://github.com/Kaggle/kaggle-api\n",
    "!pip install kaggle"
   ]
  },
  {
   "cell_type": "raw",
   "metadata": {
    "colab": {
     "base_uri": "https://localhost:8080/",
     "height": 91,
     "resources": {
      "http://localhost:8080/nbextensions/google.colab/files.js": {
       "data": "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",
       "headers": [
        [
         "content-type",
         "application/javascript"
        ]
       ],
       "ok": true,
       "status": 200,
       "status_text": ""
      }
     }
    },
    "colab_type": "code",
    "executionInfo": {
     "elapsed": 11558,
     "status": "ok",
     "timestamp": 1552597747179,
     "user": {
      "displayName": "Swapnil Pote",
      "photoUrl": "https://lh3.googleusercontent.com/-AQQdybn0OPI/AAAAAAAAAAI/AAAAAAAAAAg/vn6s0gcC7To/s64/photo.jpg",
      "userId": "02950903434846970885"
     },
     "user_tz": -330
    },
    "id": "iQ8pjv3phMSt",
    "outputId": "19548a55-d6f1-4d96-fb6d-500f9c51160f"
   },
   "source": [
    "# Use this only in case of google colabs\n",
    "from google.colab import files\n",
    "files.upload()"
   ]
  },
  {
   "cell_type": "raw",
   "metadata": {
    "colab": {
     "base_uri": "https://localhost:8080/",
     "height": 34
    },
    "colab_type": "code",
    "executionInfo": {
     "elapsed": 3734,
     "status": "ok",
     "timestamp": 1552597793310,
     "user": {
      "displayName": "Swapnil Pote",
      "photoUrl": "https://lh3.googleusercontent.com/-AQQdybn0OPI/AAAAAAAAAAI/AAAAAAAAAAg/vn6s0gcC7To/s64/photo.jpg",
      "userId": "02950903434846970885"
     },
     "user_tz": -330
    },
    "id": "SWbDveeXCgP6",
    "outputId": "97d19e2c-1bee-4d78-e4ea-070d137b7a58"
   },
   "source": [
    "!ls"
   ]
  },
  {
   "cell_type": "raw",
   "metadata": {
    "colab": {},
    "colab_type": "code",
    "id": "gHi1U4b9CxlK"
   },
   "source": [
    "!mkdir /root/.kaggle/"
   ]
  },
  {
   "cell_type": "raw",
   "metadata": {
    "colab": {},
    "colab_type": "code",
    "id": "R5V-REGpic-E"
   },
   "source": [
    "!mv kaggle.json /root/.kaggle/"
   ]
  },
  {
   "cell_type": "raw",
   "metadata": {
    "colab": {},
    "colab_type": "code",
    "id": "ZK5pewFQgI15"
   },
   "source": [
    "!chmod 600 /root/.kaggle/kaggle.json"
   ]
  },
  {
   "cell_type": "raw",
   "metadata": {
    "colab": {
     "base_uri": "https://localhost:8080/",
     "height": 68
    },
    "colab_type": "code",
    "executionInfo": {
     "elapsed": 4552,
     "status": "ok",
     "timestamp": 1552597888204,
     "user": {
      "displayName": "Swapnil Pote",
      "photoUrl": "https://lh3.googleusercontent.com/-AQQdybn0OPI/AAAAAAAAAAI/AAAAAAAAAAg/vn6s0gcC7To/s64/photo.jpg",
      "userId": "02950903434846970885"
     },
     "user_tz": -330
    },
    "id": "bQgAfc4cjSSm",
    "outputId": "946e23e3-e0ac-4e68-fa1e-09555c778ce4"
   },
   "source": [
    "!kaggle competitions download sentiment-classification-on-large-movie-review -f train.zip"
   ]
  },
  {
   "cell_type": "raw",
   "metadata": {
    "colab": {
     "base_uri": "https://localhost:8080/",
     "height": 34
    },
    "colab_type": "code",
    "executionInfo": {
     "elapsed": 4170,
     "status": "ok",
     "timestamp": 1552597894165,
     "user": {
      "displayName": "Swapnil Pote",
      "photoUrl": "https://lh3.googleusercontent.com/-AQQdybn0OPI/AAAAAAAAAAI/AAAAAAAAAAg/vn6s0gcC7To/s64/photo.jpg",
      "userId": "02950903434846970885"
     },
     "user_tz": -330
    },
    "id": "MBzVI4VMjlIC",
    "outputId": "4f22d815-19c2-406c-df95-bd6d2d2ed533"
   },
   "source": [
    "!pwd"
   ]
  },
  {
   "cell_type": "raw",
   "metadata": {
    "colab": {},
    "colab_type": "code",
    "id": "FXugwh4Ajn4A"
   },
   "source": [
    "!unzip -q /content/train.zip"
   ]
  },
  {
   "cell_type": "raw",
   "metadata": {
    "colab": {},
    "colab_type": "code",
    "id": "_bMefCjojztI"
   },
   "source": [
    "folder_path = \"/content/train/\""
   ]
  },
  {
   "cell_type": "markdown",
   "metadata": {},
   "source": [
    "## If you are using local machine follow following steps"
   ]
  },
  {
   "cell_type": "raw",
   "metadata": {
    "colab": {},
    "colab_type": "code",
    "id": "qYZubG-JkOJ9"
   },
   "source": [
    "# Download dataset following Kaggle competition \n",
    "https://www.kaggle.com/c/sentiment-classification-on-large-movie-review/\n",
    "    \n",
    "# Create following folder structure\n",
    "sentiment_analysis.ipynb\n",
    "data/\n",
    "    train/\n",
    "        pos/\n",
    "            *.txt\n",
    "        neg/\n",
    "            *.txt\n",
    "    test/"
   ]
  },
  {
   "cell_type": "code",
   "execution_count": null,
   "metadata": {},
   "outputs": [],
   "source": [
    "os.mkdir(\"data/\")\n",
    "\n",
    "folder_path = \"data/\""
   ]
  },
  {
   "cell_type": "code",
   "execution_count": null,
   "metadata": {},
   "outputs": [],
   "source": [
    "os.mkdir(folder_path + \"train/\")\n",
    "os.mkdir(folder_path + \"test/\")"
   ]
  },
  {
   "cell_type": "raw",
   "metadata": {},
   "source": [
    "# Now after downloading dataset from kaggle move train data into train folder & do it same for test folder & sample.csv into data folder"
   ]
  },
  {
   "cell_type": "code",
   "execution_count": null,
   "metadata": {
    "colab": {},
    "colab_type": "code",
    "id": "Amp02u6KkQc7"
   },
   "outputs": [],
   "source": [
    "# Collect all positive review files\n",
    "pos_files = os.listdir(folder_path + \"train/pos/\")"
   ]
  },
  {
   "cell_type": "code",
   "execution_count": null,
   "metadata": {
    "colab": {
     "base_uri": "https://localhost:8080/",
     "height": 187
    },
    "colab_type": "code",
    "executionInfo": {
     "elapsed": 4474,
     "status": "ok",
     "timestamp": 1552597902419,
     "user": {
      "displayName": "Swapnil Pote",
      "photoUrl": "https://lh3.googleusercontent.com/-AQQdybn0OPI/AAAAAAAAAAI/AAAAAAAAAAg/vn6s0gcC7To/s64/photo.jpg",
      "userId": "02950903434846970885"
     },
     "user_tz": -330
    },
    "id": "h3gzURiakZfY",
    "outputId": "1b72e091-a6d3-46b5-a9bb-ab48e939d1aa"
   },
   "outputs": [],
   "source": [
    "print(pos_files[:10])"
   ]
  },
  {
   "cell_type": "code",
   "execution_count": null,
   "metadata": {
    "colab": {},
    "colab_type": "code",
    "id": "f94iXgvukbIy"
   },
   "outputs": [],
   "source": [
    "# Collect all negative review files\n",
    "neg_files = os.listdir(folder_path + \"train/neg/\")"
   ]
  },
  {
   "cell_type": "code",
   "execution_count": null,
   "metadata": {
    "colab": {
     "base_uri": "https://localhost:8080/",
     "height": 187
    },
    "colab_type": "code",
    "executionInfo": {
     "elapsed": 3470,
     "status": "ok",
     "timestamp": 1552597902422,
     "user": {
      "displayName": "Swapnil Pote",
      "photoUrl": "https://lh3.googleusercontent.com/-AQQdybn0OPI/AAAAAAAAAAI/AAAAAAAAAAg/vn6s0gcC7To/s64/photo.jpg",
      "userId": "02950903434846970885"
     },
     "user_tz": -330
    },
    "id": "Bx83S2Q4kgzB",
    "outputId": "a62c588e-c78c-40b4-b039-f88723112f26"
   },
   "outputs": [],
   "source": [
    "print(neg_files[:10])"
   ]
  },
  {
   "cell_type": "code",
   "execution_count": null,
   "metadata": {},
   "outputs": [],
   "source": [
    "# Total number of files positive & negative i.e. equals to total number of reviews\n",
    "print(len(pos_files), len(neg_files))"
   ]
  },
  {
   "cell_type": "code",
   "execution_count": null,
   "metadata": {
    "colab": {},
    "colab_type": "code",
    "id": "-8eqRFq-kiLz"
   },
   "outputs": [],
   "source": [
    "# Put all text data inside X & label data inside Y & unique words inside unq_words\n",
    "X = []\n",
    "Y = [] # positive = 1 & negative = 0\n",
    "unq_words = []"
   ]
  },
  {
   "cell_type": "code",
   "execution_count": null,
   "metadata": {
    "colab": {
     "base_uri": "https://localhost:8080/",
     "height": 68
    },
    "colab_type": "code",
    "executionInfo": {
     "elapsed": 3668,
     "status": "ok",
     "timestamp": 1552597904120,
     "user": {
      "displayName": "Swapnil Pote",
      "photoUrl": "https://lh3.googleusercontent.com/-AQQdybn0OPI/AAAAAAAAAAI/AAAAAAAAAAg/vn6s0gcC7To/s64/photo.jpg",
      "userId": "02950903434846970885"
     },
     "user_tz": -330
    },
    "id": "U54tMNifmHot",
    "outputId": "8d32e1c8-4f11-4dcd-80e3-424ac517700a"
   },
   "outputs": [],
   "source": [
    "# Download tokenizer 'punket' of nltk library\n",
    "nltk.download('punkt')"
   ]
  },
  {
   "cell_type": "code",
   "execution_count": null,
   "metadata": {
    "colab": {},
    "colab_type": "code",
    "id": "vzRHYnOBkmMS"
   },
   "outputs": [],
   "source": [
    "# Read all positive reviews & put inside X & it's respective label inside Y\n",
    "for file in pos_files:\n",
    "    with open(folder_path + \"train/pos/\" + file, \"r\") as f:\n",
    "        sentence = f.readline().lower()\n",
    "        tokens = nltk.word_tokenize(sentence)\n",
    "        unq_words.extend(tokens)\n",
    "        X.append(tokens)\n",
    "        Y.append(1)"
   ]
  },
  {
   "cell_type": "code",
   "execution_count": null,
   "metadata": {
    "colab": {
     "base_uri": "https://localhost:8080/",
     "height": 34
    },
    "colab_type": "code",
    "executionInfo": {
     "elapsed": 29106,
     "status": "ok",
     "timestamp": 1552597930534,
     "user": {
      "displayName": "Swapnil Pote",
      "photoUrl": "https://lh3.googleusercontent.com/-AQQdybn0OPI/AAAAAAAAAAI/AAAAAAAAAAg/vn6s0gcC7To/s64/photo.jpg",
      "userId": "02950903434846970885"
     },
     "user_tz": -330
    },
    "id": "4K1KIDTEmEYj",
    "outputId": "b8f6d23d-4305-4fa9-d9e8-3aee2bf66391"
   },
   "outputs": [],
   "source": [
    "len(X), len(Y), len(unq_words)"
   ]
  },
  {
   "cell_type": "code",
   "execution_count": null,
   "metadata": {
    "colab": {
     "base_uri": "https://localhost:8080/",
     "height": 54
    },
    "colab_type": "code",
    "executionInfo": {
     "elapsed": 28563,
     "status": "ok",
     "timestamp": 1552597930535,
     "user": {
      "displayName": "Swapnil Pote",
      "photoUrl": "https://lh3.googleusercontent.com/-AQQdybn0OPI/AAAAAAAAAAI/AAAAAAAAAAg/vn6s0gcC7To/s64/photo.jpg",
      "userId": "02950903434846970885"
     },
     "user_tz": -330
    },
    "id": "3eZvIDDTmrtG",
    "outputId": "420dd2c7-6af9-4d8a-e555-68c2a9e982e1"
   },
   "outputs": [],
   "source": [
    "print(X[:2])"
   ]
  },
  {
   "cell_type": "code",
   "execution_count": null,
   "metadata": {
    "colab": {
     "base_uri": "https://localhost:8080/",
     "height": 34
    },
    "colab_type": "code",
    "executionInfo": {
     "elapsed": 27977,
     "status": "ok",
     "timestamp": 1552597930536,
     "user": {
      "displayName": "Swapnil Pote",
      "photoUrl": "https://lh3.googleusercontent.com/-AQQdybn0OPI/AAAAAAAAAAI/AAAAAAAAAAg/vn6s0gcC7To/s64/photo.jpg",
      "userId": "02950903434846970885"
     },
     "user_tz": -330
    },
    "id": "-Jy763bUm2Ou",
    "outputId": "14da32a8-ddcd-4722-bb40-e1301c085ebc"
   },
   "outputs": [],
   "source": [
    "print(unq_words[:10])"
   ]
  },
  {
   "cell_type": "code",
   "execution_count": null,
   "metadata": {
    "colab": {},
    "colab_type": "code",
    "id": "jprr2bN1nE38"
   },
   "outputs": [],
   "source": [
    "# Read all negative reviews & put inside X & it's respective label inside Y\n",
    "for file in neg_files:\n",
    "    with open(folder_path + \"train/neg/\" + file, \"r\") as f:\n",
    "        sentence = f.readline().lower()\n",
    "        tokens = nltk.word_tokenize(sentence)\n",
    "        unq_words.extend(tokens)\n",
    "        X.append(tokens)\n",
    "        Y.append(0)"
   ]
  },
  {
   "cell_type": "code",
   "execution_count": null,
   "metadata": {
    "colab": {
     "base_uri": "https://localhost:8080/",
     "height": 34
    },
    "colab_type": "code",
    "executionInfo": {
     "elapsed": 53130,
     "status": "ok",
     "timestamp": 1552597956501,
     "user": {
      "displayName": "Swapnil Pote",
      "photoUrl": "https://lh3.googleusercontent.com/-AQQdybn0OPI/AAAAAAAAAAI/AAAAAAAAAAg/vn6s0gcC7To/s64/photo.jpg",
      "userId": "02950903434846970885"
     },
     "user_tz": -330
    },
    "id": "bFqEjjB2nQJJ",
    "outputId": "5e7205e7-de35-41b6-ce17-f57bed82b7b3"
   },
   "outputs": [],
   "source": [
    "len(X), len(Y), len(unq_words)"
   ]
  },
  {
   "cell_type": "code",
   "execution_count": null,
   "metadata": {
    "colab": {},
    "colab_type": "code",
    "id": "9rJp7miMncHi"
   },
   "outputs": [],
   "source": [
    "# Put data inside pandas dataframe for some analysis\n",
    "dataset = pd.DataFrame({\"Sentence\": X, \"Label\": Y})"
   ]
  },
  {
   "cell_type": "code",
   "execution_count": null,
   "metadata": {
    "colab": {
     "base_uri": "https://localhost:8080/",
     "height": 359
    },
    "colab_type": "code",
    "executionInfo": {
     "elapsed": 52661,
     "status": "ok",
     "timestamp": 1552597956511,
     "user": {
      "displayName": "Swapnil Pote",
      "photoUrl": "https://lh3.googleusercontent.com/-AQQdybn0OPI/AAAAAAAAAAI/AAAAAAAAAAg/vn6s0gcC7To/s64/photo.jpg",
      "userId": "02950903434846970885"
     },
     "user_tz": -330
    },
    "id": "ExVsGaGonfkB",
    "outputId": "fddadc26-f357-4217-eebf-5d18155478f4"
   },
   "outputs": [],
   "source": [
    "dataset.head(10)"
   ]
  },
  {
   "cell_type": "code",
   "execution_count": null,
   "metadata": {},
   "outputs": [],
   "source": [
    "dataset.tail(10)"
   ]
  },
  {
   "cell_type": "code",
   "execution_count": null,
   "metadata": {
    "colab": {
     "base_uri": "https://localhost:8080/",
     "height": 364
    },
    "colab_type": "code",
    "executionInfo": {
     "elapsed": 52918,
     "status": "ok",
     "timestamp": 1552597956957,
     "user": {
      "displayName": "Swapnil Pote",
      "photoUrl": "https://lh3.googleusercontent.com/-AQQdybn0OPI/AAAAAAAAAAI/AAAAAAAAAAg/vn6s0gcC7To/s64/photo.jpg",
      "userId": "02950903434846970885"
     },
     "user_tz": -330
    },
    "id": "lqSNDUhypXYz",
    "outputId": "530c888c-df65-48c2-8eb7-37db6c320f85"
   },
   "outputs": [],
   "source": [
    "# Is there any class imbalance?\n",
    "dataset['Label'].value_counts().plot(kind='barh')"
   ]
  },
  {
   "cell_type": "code",
   "execution_count": null,
   "metadata": {
    "colab": {
     "base_uri": "https://localhost:8080/",
     "height": 34
    },
    "colab_type": "code",
    "executionInfo": {
     "elapsed": 53099,
     "status": "ok",
     "timestamp": 1552597957372,
     "user": {
      "displayName": "Swapnil Pote",
      "photoUrl": "https://lh3.googleusercontent.com/-AQQdybn0OPI/AAAAAAAAAAI/AAAAAAAAAAg/vn6s0gcC7To/s64/photo.jpg",
      "userId": "02950903434846970885"
     },
     "user_tz": -330
    },
    "id": "d8b4JdpApcfr",
    "outputId": "d37dfb02-5ed5-4623-f14e-79145867edca"
   },
   "outputs": [],
   "source": [
    "# Let's now find out unique words\n",
    "unq_words = list(set(unq_words))\n",
    "\n",
    "# Number of unique words\n",
    "len(unq_words)"
   ]
  },
  {
   "cell_type": "code",
   "execution_count": null,
   "metadata": {
    "colab": {
     "base_uri": "https://localhost:8080/",
     "height": 187
    },
    "colab_type": "code",
    "executionInfo": {
     "elapsed": 52895,
     "status": "ok",
     "timestamp": 1552597957374,
     "user": {
      "displayName": "Swapnil Pote",
      "photoUrl": "https://lh3.googleusercontent.com/-AQQdybn0OPI/AAAAAAAAAAI/AAAAAAAAAAg/vn6s0gcC7To/s64/photo.jpg",
      "userId": "02950903434846970885"
     },
     "user_tz": -330
    },
    "id": "vmQcSlv1qLEd",
    "outputId": "371d1f2b-0b40-478e-d762-08a58323e720"
   },
   "outputs": [],
   "source": [
    "unq_words[:10]"
   ]
  },
  {
   "cell_type": "code",
   "execution_count": null,
   "metadata": {
    "colab": {},
    "colab_type": "code",
    "id": "S5iHhnplqZqE"
   },
   "outputs": [],
   "source": [
    "# Add 2 more words i.e. PAD for padding & UNK for unknown words\n",
    "unq_words.insert(0, \"PAD\")\n",
    "unq_words.insert(1, \"UNK\")"
   ]
  },
  {
   "cell_type": "code",
   "execution_count": null,
   "metadata": {
    "colab": {
     "base_uri": "https://localhost:8080/",
     "height": 187
    },
    "colab_type": "code",
    "executionInfo": {
     "elapsed": 52385,
     "status": "ok",
     "timestamp": 1552597957384,
     "user": {
      "displayName": "Swapnil Pote",
      "photoUrl": "https://lh3.googleusercontent.com/-AQQdybn0OPI/AAAAAAAAAAI/AAAAAAAAAAg/vn6s0gcC7To/s64/photo.jpg",
      "userId": "02950903434846970885"
     },
     "user_tz": -330
    },
    "id": "_AdMRvacqtBJ",
    "outputId": "ae2d6277-c3d1-4847-bbb8-d2c9090f95a7"
   },
   "outputs": [],
   "source": [
    "unq_words[:10]"
   ]
  },
  {
   "cell_type": "code",
   "execution_count": null,
   "metadata": {},
   "outputs": [],
   "source": [
    "# Number of unique words after adding PAD & UNK\n",
    "len(unq_words)"
   ]
  },
  {
   "cell_type": "code",
   "execution_count": null,
   "metadata": {
    "colab": {},
    "colab_type": "code",
    "id": "QonELUOSqu4D"
   },
   "outputs": [],
   "source": [
    "# word2idx is for converting sentences into arrays of numbers & idx2word for viceversa\n",
    "word2idx = {}\n",
    "idx2word = {}\n",
    "\n",
    "for i, word in enumerate(unq_words):\n",
    "    word2idx[word] = i\n",
    "    \n",
    "for i, word in enumerate(unq_words):\n",
    "    idx2word[i] = word"
   ]
  },
  {
   "cell_type": "code",
   "execution_count": null,
   "metadata": {
    "colab": {
     "base_uri": "https://localhost:8080/",
     "height": 34
    },
    "colab_type": "code",
    "executionInfo": {
     "elapsed": 51984,
     "status": "ok",
     "timestamp": 1552597957387,
     "user": {
      "displayName": "Swapnil Pote",
      "photoUrl": "https://lh3.googleusercontent.com/-AQQdybn0OPI/AAAAAAAAAAI/AAAAAAAAAAg/vn6s0gcC7To/s64/photo.jpg",
      "userId": "02950903434846970885"
     },
     "user_tz": -330
    },
    "id": "q_fnlTOqrPjw",
    "outputId": "6b7f6fa8-fce7-4a98-ff55-b769ecf07c39"
   },
   "outputs": [],
   "source": [
    "word2idx.get(\"inning\")"
   ]
  },
  {
   "cell_type": "code",
   "execution_count": null,
   "metadata": {
    "colab": {
     "base_uri": "https://localhost:8080/",
     "height": 34
    },
    "colab_type": "code",
    "executionInfo": {
     "elapsed": 51796,
     "status": "ok",
     "timestamp": 1552597957388,
     "user": {
      "displayName": "Swapnil Pote",
      "photoUrl": "https://lh3.googleusercontent.com/-AQQdybn0OPI/AAAAAAAAAAI/AAAAAAAAAAg/vn6s0gcC7To/s64/photo.jpg",
      "userId": "02950903434846970885"
     },
     "user_tz": -330
    },
    "id": "gEjREYForuN7",
    "outputId": "a095c3a2-a6a4-4a22-e774-d2bc484e38b1"
   },
   "outputs": [],
   "source": [
    "idx2word.get(7877)"
   ]
  },
  {
   "cell_type": "code",
   "execution_count": null,
   "metadata": {
    "colab": {},
    "colab_type": "code",
    "id": "W7-wl3yhzNJY"
   },
   "outputs": [],
   "source": [
    "# Calculate all sentences individual lengths\n",
    "sentences_len = [len(sent) for sent in X]"
   ]
  },
  {
   "cell_type": "code",
   "execution_count": null,
   "metadata": {
    "colab": {
     "base_uri": "https://localhost:8080/",
     "height": 34
    },
    "colab_type": "code",
    "executionInfo": {
     "elapsed": 52787,
     "status": "ok",
     "timestamp": 1552597959890,
     "user": {
      "displayName": "Swapnil Pote",
      "photoUrl": "https://lh3.googleusercontent.com/-AQQdybn0OPI/AAAAAAAAAAI/AAAAAAAAAAg/vn6s0gcC7To/s64/photo.jpg",
      "userId": "02950903434846970885"
     },
     "user_tz": -330
    },
    "id": "ru3PdUPavbMO",
    "outputId": "f9c69389-a78d-42ef-b78a-396a0cc5e59b"
   },
   "outputs": [],
   "source": [
    "# Maximum size of any particular sentence\n",
    "max_sentence_size = max(sentences_len)\n",
    "max_sentence_size"
   ]
  },
  {
   "cell_type": "code",
   "execution_count": null,
   "metadata": {
    "colab": {
     "base_uri": "https://localhost:8080/",
     "height": 34
    },
    "colab_type": "code",
    "executionInfo": {
     "elapsed": 52585,
     "status": "ok",
     "timestamp": 1552597959893,
     "user": {
      "displayName": "Swapnil Pote",
      "photoUrl": "https://lh3.googleusercontent.com/-AQQdybn0OPI/AAAAAAAAAAI/AAAAAAAAAAg/vn6s0gcC7To/s64/photo.jpg",
      "userId": "02950903434846970885"
     },
     "user_tz": -330
    },
    "id": "dfA4JeTxxEnt",
    "outputId": "b8989728-8bf0-4634-d1df-30602a2a5210"
   },
   "outputs": [],
   "source": [
    "# Minimum size of any particular sentence\n",
    "min_sentence_size = min(sentences_len)\n",
    "min_sentence_size"
   ]
  },
  {
   "cell_type": "code",
   "execution_count": null,
   "metadata": {
    "colab": {
     "base_uri": "https://localhost:8080/",
     "height": 34
    },
    "colab_type": "code",
    "executionInfo": {
     "elapsed": 52391,
     "status": "ok",
     "timestamp": 1552597959894,
     "user": {
      "displayName": "Swapnil Pote",
      "photoUrl": "https://lh3.googleusercontent.com/-AQQdybn0OPI/AAAAAAAAAAI/AAAAAAAAAAg/vn6s0gcC7To/s64/photo.jpg",
      "userId": "02950903434846970885"
     },
     "user_tz": -330
    },
    "id": "uoBrQaUCxPCd",
    "outputId": "5fade563-1e39-4155-8f04-387afa3ad4bc"
   },
   "outputs": [],
   "source": [
    "# Average size of any particular sentence\n",
    "avg_sentence_size = reduce((lambda x, y: x + y), sentences_len) // len(X)\n",
    "avg_sentence_size"
   ]
  },
  {
   "cell_type": "code",
   "execution_count": null,
   "metadata": {
    "colab": {
     "base_uri": "https://localhost:8080/",
     "height": 609
    },
    "colab_type": "code",
    "executionInfo": {
     "elapsed": 53396,
     "status": "ok",
     "timestamp": 1552597961579,
     "user": {
      "displayName": "Swapnil Pote",
      "photoUrl": "https://lh3.googleusercontent.com/-AQQdybn0OPI/AAAAAAAAAAI/AAAAAAAAAAg/vn6s0gcC7To/s64/photo.jpg",
      "userId": "02950903434846970885"
     },
     "user_tz": -330
    },
    "id": "Wd1keXLF0hRB",
    "outputId": "3a093127-d359-4f4a-f0f3-b3c7c46a0ced"
   },
   "outputs": [],
   "source": [
    "# Let's try to see how length of sentences varies\n",
    "plt.plot(list(range(len(sentences_len))), sentences_len)"
   ]
  },
  {
   "cell_type": "code",
   "execution_count": null,
   "metadata": {
    "colab": {},
    "colab_type": "code",
    "id": "g_YDkw8Ytyxy"
   },
   "outputs": [],
   "source": [
    "# This function convert sentences array into number array\n",
    "def num_sentence(sentences_tokens):\n",
    "    x = [[word2idx.get(word, 1) for word in sent] for sent in sentences_tokens]\n",
    "    \n",
    "    return x"
   ]
  },
  {
   "cell_type": "code",
   "execution_count": null,
   "metadata": {
    "colab": {},
    "colab_type": "code",
    "id": "w9h-1omqvJNH"
   },
   "outputs": [],
   "source": [
    "num_X = num_sentence(X)"
   ]
  },
  {
   "cell_type": "code",
   "execution_count": null,
   "metadata": {
    "colab": {
     "base_uri": "https://localhost:8080/",
     "height": 34
    },
    "colab_type": "code",
    "executionInfo": {
     "elapsed": 53259,
     "status": "ok",
     "timestamp": 1552597959889,
     "user": {
      "displayName": "Swapnil Pote",
      "photoUrl": "https://lh3.googleusercontent.com/-AQQdybn0OPI/AAAAAAAAAAI/AAAAAAAAAAg/vn6s0gcC7To/s64/photo.jpg",
      "userId": "02950903434846970885"
     },
     "user_tz": -330
    },
    "id": "90vm0B4gvMs3",
    "outputId": "cd740aac-38e3-441e-8c0c-9463e8356484"
   },
   "outputs": [],
   "source": [
    "len(num_X)"
   ]
  },
  {
   "cell_type": "code",
   "execution_count": null,
   "metadata": {
    "colab": {},
    "colab_type": "code",
    "id": "V4GSjMCwvXTm"
   },
   "outputs": [],
   "source": [
    "print(num_X[:2])"
   ]
  },
  {
   "cell_type": "code",
   "execution_count": null,
   "metadata": {
    "colab": {},
    "colab_type": "code",
    "id": "ifvvnFXZrxo-"
   },
   "outputs": [],
   "source": [
    "# Now divide data into training & validations data\n",
    "train_x, valid_x, train_y, valid_y = train_test_split(num_X, Y, test_size = 0.10, random_state = 10)"
   ]
  },
  {
   "cell_type": "code",
   "execution_count": null,
   "metadata": {
    "colab": {},
    "colab_type": "code",
    "id": "PPcDTRrG3ID2"
   },
   "outputs": [],
   "source": [
    "# Perform padding for sentences less then 750\n",
    "train_x_pad = pad_sequences(train_x, maxlen = 750, padding = \"pre\", truncating = \"pre\", value = 0)"
   ]
  },
  {
   "cell_type": "code",
   "execution_count": null,
   "metadata": {
    "colab": {
     "base_uri": "https://localhost:8080/",
     "height": 609
    },
    "colab_type": "code",
    "executionInfo": {
     "elapsed": 54156,
     "status": "ok",
     "timestamp": 1552597963527,
     "user": {
      "displayName": "Swapnil Pote",
      "photoUrl": "https://lh3.googleusercontent.com/-AQQdybn0OPI/AAAAAAAAAAI/AAAAAAAAAAg/vn6s0gcC7To/s64/photo.jpg",
      "userId": "02950903434846970885"
     },
     "user_tz": -330
    },
    "id": "aCrG0J7B3jDm",
    "outputId": "3e1b6fbb-efec-49ad-94b7-594c417fab71"
   },
   "outputs": [],
   "source": [
    "plt.plot(list(range(len(train_x_pad))), [len(sent) for sent in train_x_pad])"
   ]
  },
  {
   "cell_type": "code",
   "execution_count": null,
   "metadata": {
    "colab": {},
    "colab_type": "code",
    "id": "io89hA0k4qcn"
   },
   "outputs": [],
   "source": [
    "# Model input data dimensions\n",
    "timesteps = 750\n",
    "data_dim = 1\n",
    "output_len = 1"
   ]
  },
  {
   "cell_type": "code",
   "execution_count": null,
   "metadata": {
    "colab": {
     "base_uri": "https://localhost:8080/",
     "height": 136
    },
    "colab_type": "code",
    "executionInfo": {
     "elapsed": 52014,
     "status": "ok",
     "timestamp": 1552597963938,
     "user": {
      "displayName": "Swapnil Pote",
      "photoUrl": "https://lh3.googleusercontent.com/-AQQdybn0OPI/AAAAAAAAAAI/AAAAAAAAAAg/vn6s0gcC7To/s64/photo.jpg",
      "userId": "02950903434846970885"
     },
     "user_tz": -330
    },
    "id": "ZDbU_qLT4UZC",
    "outputId": "d88c56cf-9369-46af-e9c0-b794e08a00ed"
   },
   "outputs": [],
   "source": [
    "# Neural network architecture\n",
    "model = Sequential()\n",
    "\n",
    "model.add(LSTM(50, input_shape=(timesteps, data_dim), return_sequences = True))\n",
    "model.add(Dropout(0.2))\n",
    "\n",
    "model.add(LSTM(100, return_sequences = False))\n",
    "model.add(Dropout(0.2))\n",
    "\n",
    "model.add(Dense(output_len))\n",
    "model.add(Activation(\"sigmoid\"))\n",
    "\n",
    "start = time.time()\n",
    "model.compile(loss = \"binary_crossentropy\", optimizer = \"rmsprop\")\n",
    "print ('compilation time : ', time.time() - start)"
   ]
  },
  {
   "cell_type": "code",
   "execution_count": null,
   "metadata": {
    "colab": {
     "base_uri": "https://localhost:8080/",
     "height": 340
    },
    "colab_type": "code",
    "executionInfo": {
     "elapsed": 50416,
     "status": "ok",
     "timestamp": 1552597963940,
     "user": {
      "displayName": "Swapnil Pote",
      "photoUrl": "https://lh3.googleusercontent.com/-AQQdybn0OPI/AAAAAAAAAAI/AAAAAAAAAAg/vn6s0gcC7To/s64/photo.jpg",
      "userId": "02950903434846970885"
     },
     "user_tz": -330
    },
    "id": "1Bln2eJo5i88",
    "outputId": "75869766-d65f-4a1f-e21d-b88b310f7026"
   },
   "outputs": [],
   "source": [
    "model.summary()"
   ]
  },
  {
   "cell_type": "code",
   "execution_count": null,
   "metadata": {
    "colab": {},
    "colab_type": "code",
    "id": "uHPsMGTo5TkY"
   },
   "outputs": [],
   "source": [
    "# let's check our data is in proper shape\n",
    "train_x_pad = np.array(train_x_pad)\n",
    "train_x_pad.shape"
   ]
  },
  {
   "cell_type": "code",
   "execution_count": null,
   "metadata": {
    "colab": {},
    "colab_type": "code",
    "id": "C1WhaxNp7mnX"
   },
   "outputs": [],
   "source": [
    "# It's missing dimension of individual timestep data point\n",
    "train_x_pad = np.reshape(train_x_pad, (train_x_pad.shape[0], train_x_pad.shape[1], 1))\n",
    "train_x_pad.shape"
   ]
  },
  {
   "cell_type": "code",
   "execution_count": null,
   "metadata": {
    "colab": {
     "base_uri": "https://localhost:8080/",
     "height": 272
    },
    "colab_type": "code",
    "executionInfo": {
     "elapsed": 32853,
     "status": "ok",
     "timestamp": 1552597964401,
     "user": {
      "displayName": "Swapnil Pote",
      "photoUrl": "https://lh3.googleusercontent.com/-AQQdybn0OPI/AAAAAAAAAAI/AAAAAAAAAAg/vn6s0gcC7To/s64/photo.jpg",
      "userId": "02950903434846970885"
     },
     "user_tz": -330
    },
    "id": "KesKEZk29Nuu",
    "outputId": "0fe66307-89dd-4a7d-9939-dd717705884c"
   },
   "outputs": [],
   "source": [
    "print(train_x_pad[:2])"
   ]
  },
  {
   "cell_type": "code",
   "execution_count": null,
   "metadata": {
    "colab": {
     "base_uri": "https://localhost:8080/",
     "height": 221
    },
    "colab_type": "code",
    "id": "pWP38eBTBaDE",
    "outputId": "147c30bd-79fa-46fd-bd06-e5668c91df11"
   },
   "outputs": [],
   "source": [
    "# Now data is in proper format let's fit it\n",
    "model.fit(train_x_pad, train_y, batch_size = 128, epochs = 10, validation_split = 0.05, verbose = 2)"
   ]
  },
  {
   "cell_type": "code",
   "execution_count": null,
   "metadata": {},
   "outputs": [],
   "source": []
  }
 ],
 "metadata": {
  "accelerator": "GPU",
  "colab": {
   "name": "sentiment_analysis.ipynb",
   "provenance": [],
   "version": "0.3.2"
  },
  "kernelspec": {
   "display_name": "Python 3",
   "language": "python",
   "name": "python3"
  },
  "language_info": {
   "codemirror_mode": {
    "name": "ipython",
    "version": 3
   },
   "file_extension": ".py",
   "mimetype": "text/x-python",
   "name": "python",
   "nbconvert_exporter": "python",
   "pygments_lexer": "ipython3",
   "version": "3.6.5"
  }
 },
 "nbformat": 4,
 "nbformat_minor": 1
}
