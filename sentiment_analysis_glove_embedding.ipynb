{
 "cells": [
  {
   "cell_type": "code",
   "execution_count": 1,
   "metadata": {
    "colab": {},
    "colab_type": "code",
    "id": "l486XBS9dNOh"
   },
   "outputs": [
    {
     "name": "stderr",
     "output_type": "stream",
     "text": [
      "Using TensorFlow backend.\n"
     ]
    }
   ],
   "source": [
    "import numpy as np\n",
    "import pandas as pd\n",
    "import time, os, nltk\n",
    "from functools import reduce\n",
    "\n",
    "from matplotlib import pyplot as plt\n",
    "\n",
    "from keras.layers import Embedding\n",
    "from keras.layers.core import Dense, Activation, Dropout\n",
    "from keras.layers.recurrent import LSTM\n",
    "from keras.models import Sequential\n",
    "from keras.preprocessing.sequence import pad_sequences\n",
    "from keras.utils import to_categorical\n",
    "\n",
    "from sklearn.model_selection import train_test_split"
   ]
  },
  {
   "cell_type": "code",
   "execution_count": 2,
   "metadata": {},
   "outputs": [],
   "source": [
    "plt.rcParams[\"figure.figsize\"] = (30, 10)"
   ]
  },
  {
   "cell_type": "markdown",
   "metadata": {},
   "source": [
    "## If you are using google colabs use following code for downloading dataset from kaggle"
   ]
  },
  {
   "cell_type": "raw",
   "metadata": {
    "colab": {
     "base_uri": "https://localhost:8080/",
     "height": 204
    },
    "colab_type": "code",
    "executionInfo": {
     "elapsed": 5521,
     "status": "ok",
     "timestamp": 1552597730567,
     "user": {
      "displayName": "Swapnil Pote",
      "photoUrl": "https://lh3.googleusercontent.com/-AQQdybn0OPI/AAAAAAAAAAI/AAAAAAAAAAg/vn6s0gcC7To/s64/photo.jpg",
      "userId": "02950903434846970885"
     },
     "user_tz": -330
    },
    "id": "RcpyEy42eT42",
    "outputId": "2a1ce0c4-fd0b-49be-f883-3a75b06dc8fc",
    "scrolled": true
   },
   "source": [
    "# Following is offical kaggle package. Check this link for API crendientials & upload it on google colabs \n",
    "# https://github.com/Kaggle/kaggle-api\n",
    "!pip install kaggle"
   ]
  },
  {
   "cell_type": "raw",
   "metadata": {
    "colab": {
     "base_uri": "https://localhost:8080/",
     "height": 91,
     "resources": {
      "http://localhost:8080/nbextensions/google.colab/files.js": {
       "data": "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",
       "headers": [
        [
         "content-type",
         "application/javascript"
        ]
       ],
       "ok": true,
       "status": 200,
       "status_text": ""
      }
     }
    },
    "colab_type": "code",
    "executionInfo": {
     "elapsed": 11558,
     "status": "ok",
     "timestamp": 1552597747179,
     "user": {
      "displayName": "Swapnil Pote",
      "photoUrl": "https://lh3.googleusercontent.com/-AQQdybn0OPI/AAAAAAAAAAI/AAAAAAAAAAg/vn6s0gcC7To/s64/photo.jpg",
      "userId": "02950903434846970885"
     },
     "user_tz": -330
    },
    "id": "iQ8pjv3phMSt",
    "outputId": "19548a55-d6f1-4d96-fb6d-500f9c51160f"
   },
   "source": [
    "# Use this only in case of google colabs\n",
    "from google.colab import files\n",
    "files.upload()"
   ]
  },
  {
   "cell_type": "raw",
   "metadata": {
    "colab": {
     "base_uri": "https://localhost:8080/",
     "height": 34
    },
    "colab_type": "code",
    "executionInfo": {
     "elapsed": 3734,
     "status": "ok",
     "timestamp": 1552597793310,
     "user": {
      "displayName": "Swapnil Pote",
      "photoUrl": "https://lh3.googleusercontent.com/-AQQdybn0OPI/AAAAAAAAAAI/AAAAAAAAAAg/vn6s0gcC7To/s64/photo.jpg",
      "userId": "02950903434846970885"
     },
     "user_tz": -330
    },
    "id": "SWbDveeXCgP6",
    "outputId": "97d19e2c-1bee-4d78-e4ea-070d137b7a58"
   },
   "source": [
    "!ls"
   ]
  },
  {
   "cell_type": "raw",
   "metadata": {
    "colab": {},
    "colab_type": "code",
    "id": "gHi1U4b9CxlK"
   },
   "source": [
    "!mkdir /root/.kaggle/"
   ]
  },
  {
   "cell_type": "raw",
   "metadata": {
    "colab": {},
    "colab_type": "code",
    "id": "R5V-REGpic-E"
   },
   "source": [
    "!mv kaggle.json /root/.kaggle/"
   ]
  },
  {
   "cell_type": "raw",
   "metadata": {
    "colab": {},
    "colab_type": "code",
    "id": "ZK5pewFQgI15"
   },
   "source": [
    "!chmod 600 /root/.kaggle/kaggle.json"
   ]
  },
  {
   "cell_type": "raw",
   "metadata": {
    "colab": {
     "base_uri": "https://localhost:8080/",
     "height": 68
    },
    "colab_type": "code",
    "executionInfo": {
     "elapsed": 4552,
     "status": "ok",
     "timestamp": 1552597888204,
     "user": {
      "displayName": "Swapnil Pote",
      "photoUrl": "https://lh3.googleusercontent.com/-AQQdybn0OPI/AAAAAAAAAAI/AAAAAAAAAAg/vn6s0gcC7To/s64/photo.jpg",
      "userId": "02950903434846970885"
     },
     "user_tz": -330
    },
    "id": "bQgAfc4cjSSm",
    "outputId": "946e23e3-e0ac-4e68-fa1e-09555c778ce4"
   },
   "source": [
    "!kaggle competitions download sentiment-classification-on-large-movie-review -f train.zip"
   ]
  },
  {
   "cell_type": "raw",
   "metadata": {
    "colab": {
     "base_uri": "https://localhost:8080/",
     "height": 34
    },
    "colab_type": "code",
    "executionInfo": {
     "elapsed": 4170,
     "status": "ok",
     "timestamp": 1552597894165,
     "user": {
      "displayName": "Swapnil Pote",
      "photoUrl": "https://lh3.googleusercontent.com/-AQQdybn0OPI/AAAAAAAAAAI/AAAAAAAAAAg/vn6s0gcC7To/s64/photo.jpg",
      "userId": "02950903434846970885"
     },
     "user_tz": -330
    },
    "id": "MBzVI4VMjlIC",
    "outputId": "4f22d815-19c2-406c-df95-bd6d2d2ed533"
   },
   "source": [
    "!pwd"
   ]
  },
  {
   "cell_type": "raw",
   "metadata": {
    "colab": {},
    "colab_type": "code",
    "id": "FXugwh4Ajn4A"
   },
   "source": [
    "!unzip -q /content/train.zip"
   ]
  },
  {
   "cell_type": "raw",
   "metadata": {
    "colab": {},
    "colab_type": "code",
    "id": "_bMefCjojztI"
   },
   "source": [
    "folder_path = \"/content/train/\""
   ]
  },
  {
   "cell_type": "markdown",
   "metadata": {},
   "source": [
    "## Download glove embeddings & use it to create embedding layer matrix"
   ]
  },
  {
   "cell_type": "code",
   "execution_count": 3,
   "metadata": {
    "colab": {
     "base_uri": "https://localhost:8080/",
     "height": 34
    },
    "colab_type": "code",
    "executionInfo": {
     "elapsed": 53099,
     "status": "ok",
     "timestamp": 1552597957372,
     "user": {
      "displayName": "Swapnil Pote",
      "photoUrl": "https://lh3.googleusercontent.com/-AQQdybn0OPI/AAAAAAAAAAI/AAAAAAAAAAg/vn6s0gcC7To/s64/photo.jpg",
      "userId": "02950903434846970885"
     },
     "user_tz": -330
    },
    "id": "d8b4JdpApcfr",
    "outputId": "d37dfb02-5ed5-4623-f14e-79145867edca"
   },
   "outputs": [
    {
     "name": "stdout",
     "output_type": "stream",
     "text": [
      "Found 400000 word vectors.\n"
     ]
    }
   ],
   "source": [
    "embeddings_index = {}\n",
    "\n",
    "f = open(os.path.join(\"embeddings\", \"glove.6B\", \"glove.6B.100d.txt\"))\n",
    "\n",
    "for line in f:\n",
    "    values = line.split()\n",
    "    word = values[0]\n",
    "    coefs = np.asarray(values[1:], dtype='float32')\n",
    "    embeddings_index[word] = coefs\n",
    "\n",
    "f.close()\n",
    "\n",
    "print('Found %s word vectors.' % len(embeddings_index))"
   ]
  },
  {
   "cell_type": "code",
   "execution_count": 4,
   "metadata": {},
   "outputs": [
    {
     "data": {
      "text/plain": [
       "array([-0.95967  ,  0.30795  ,  0.90052  ,  1.0364   ,  0.0034906,\n",
       "       -0.80758  , -1.139    ,  0.81109  , -0.67857  ,  0.52609  ,\n",
       "       -0.072252 , -0.75613  ,  0.52847  ,  1.0927   , -0.51895  ,\n",
       "       -0.21335  ,  0.18184  ,  0.40038  , -0.6547   ,  0.34626  ,\n",
       "        0.92248  , -0.25001  ,  1.1779   ,  0.61006  ,  0.029763 ,\n",
       "        0.4378   ,  0.53647  ,  0.68827  ,  0.14582  , -0.27446  ,\n",
       "       -0.50289  ,  1.0366   , -0.29851  , -0.32927  ,  0.24944  ,\n",
       "       -0.33779  ,  0.0083236, -0.21373  , -0.45898  , -0.23441  ,\n",
       "       -1.2958   ,  0.74799  ,  0.78192  , -0.75644  ,  0.84375  ,\n",
       "       -0.51725  ,  1.0952   ,  0.51768  ,  0.27906  , -0.033519 ,\n",
       "       -0.1573   ,  0.7396   ,  0.39775  ,  1.132    , -0.69279  ,\n",
       "       -2.0093   , -1.1731   , -0.14204  ,  1.5658   , -0.097956 ,\n",
       "       -0.071165 , -0.18906  ,  0.037441 ,  0.48037  ,  0.29248  ,\n",
       "        0.9216   ,  0.33285  ,  0.30963  ,  1.1272   ,  0.19965  ,\n",
       "        0.47058  ,  0.019022 , -0.27432  , -0.49782  , -0.29441  ,\n",
       "        0.28578  , -0.54893  , -0.18968  , -1.3139   ,  0.010304 ,\n",
       "        0.58306  , -0.19652  ,  0.099424 , -0.27646  , -0.50329  ,\n",
       "        0.12081  , -1.1012   , -0.23784  , -0.3516   ,  0.36723  ,\n",
       "        0.25884  , -0.19463  , -0.27582  , -0.70492  , -0.69454  ,\n",
       "        0.70624  ,  0.2283   ,  0.081052 ,  0.1351   ,  0.14388  ],\n",
       "      dtype=float32)"
      ]
     },
     "execution_count": 4,
     "metadata": {},
     "output_type": "execute_result"
    }
   ],
   "source": [
    "embeddings_index[\"india\"]"
   ]
  },
  {
   "cell_type": "code",
   "execution_count": 5,
   "metadata": {},
   "outputs": [],
   "source": [
    "embeddings_index[\"PAD\"] = np.zeros(100, dtype='float32')\n",
    "embeddings_index[\"UNK\"] = np.zeros(100, dtype='float32')"
   ]
  },
  {
   "cell_type": "code",
   "execution_count": 6,
   "metadata": {},
   "outputs": [
    {
     "data": {
      "text/plain": [
       "array([0., 0., 0., 0., 0., 0., 0., 0., 0., 0., 0., 0., 0., 0., 0., 0., 0.,\n",
       "       0., 0., 0., 0., 0., 0., 0., 0., 0., 0., 0., 0., 0., 0., 0., 0., 0.,\n",
       "       0., 0., 0., 0., 0., 0., 0., 0., 0., 0., 0., 0., 0., 0., 0., 0., 0.,\n",
       "       0., 0., 0., 0., 0., 0., 0., 0., 0., 0., 0., 0., 0., 0., 0., 0., 0.,\n",
       "       0., 0., 0., 0., 0., 0., 0., 0., 0., 0., 0., 0., 0., 0., 0., 0., 0.,\n",
       "       0., 0., 0., 0., 0., 0., 0., 0., 0., 0., 0., 0., 0., 0., 0.],\n",
       "      dtype=float32)"
      ]
     },
     "execution_count": 6,
     "metadata": {},
     "output_type": "execute_result"
    }
   ],
   "source": [
    "embeddings_index[\"PAD\"]"
   ]
  },
  {
   "cell_type": "code",
   "execution_count": 7,
   "metadata": {},
   "outputs": [],
   "source": [
    "word2idx = {}\n",
    "idx2word = {}\n",
    "\n",
    "counter = 0\n",
    "for word, _ in embeddings_index.items():\n",
    "    word2idx[word] = counter\n",
    "    idx2word[counter] = word\n",
    "    \n",
    "    counter += 1"
   ]
  },
  {
   "cell_type": "code",
   "execution_count": 8,
   "metadata": {},
   "outputs": [
    {
     "data": {
      "text/plain": [
       "0"
      ]
     },
     "execution_count": 8,
     "metadata": {},
     "output_type": "execute_result"
    }
   ],
   "source": [
    "word2idx[\"the\"]"
   ]
  },
  {
   "cell_type": "code",
   "execution_count": 9,
   "metadata": {},
   "outputs": [
    {
     "data": {
      "text/plain": [
       "'the'"
      ]
     },
     "execution_count": 9,
     "metadata": {},
     "output_type": "execute_result"
    }
   ],
   "source": [
    "idx2word[0]"
   ]
  },
  {
   "cell_type": "code",
   "execution_count": 10,
   "metadata": {},
   "outputs": [
    {
     "data": {
      "text/plain": [
       "array([-0.038194, -0.24487 ,  0.72812 , -0.39961 ,  0.083172,  0.043953,\n",
       "       -0.39141 ,  0.3344  , -0.57545 ,  0.087459,  0.28787 , -0.06731 ,\n",
       "        0.30906 , -0.26384 , -0.13231 , -0.20757 ,  0.33395 , -0.33848 ,\n",
       "       -0.31743 , -0.48336 ,  0.1464  , -0.37304 ,  0.34577 ,  0.052041,\n",
       "        0.44946 , -0.46971 ,  0.02628 , -0.54155 , -0.15518 , -0.14107 ,\n",
       "       -0.039722,  0.28277 ,  0.14393 ,  0.23464 , -0.31021 ,  0.086173,\n",
       "        0.20397 ,  0.52624 ,  0.17164 , -0.082378, -0.71787 , -0.41531 ,\n",
       "        0.20335 , -0.12763 ,  0.41367 ,  0.55187 ,  0.57908 , -0.33477 ,\n",
       "       -0.36559 , -0.54857 , -0.062892,  0.26584 ,  0.30205 ,  0.99775 ,\n",
       "       -0.80481 , -3.0243  ,  0.01254 , -0.36942 ,  2.2167  ,  0.72201 ,\n",
       "       -0.24978 ,  0.92136 ,  0.034514,  0.46745 ,  1.1079  , -0.19358 ,\n",
       "       -0.074575,  0.23353 , -0.052062, -0.22044 ,  0.057162, -0.15806 ,\n",
       "       -0.30798 , -0.41625 ,  0.37972 ,  0.15006 , -0.53212 , -0.2055  ,\n",
       "       -1.2526  ,  0.071624,  0.70565 ,  0.49744 , -0.42063 ,  0.26148 ,\n",
       "       -1.538   , -0.30223 , -0.073438, -0.28312 ,  0.37104 , -0.25217 ,\n",
       "        0.016215, -0.017099, -0.38984 ,  0.87424 , -0.72569 , -0.51058 ,\n",
       "       -0.52028 , -0.1459  ,  0.8278  ,  0.27062 ], dtype=float32)"
      ]
     },
     "execution_count": 10,
     "metadata": {},
     "output_type": "execute_result"
    }
   ],
   "source": [
    "embeddings_index[\"the\"]"
   ]
  },
  {
   "cell_type": "code",
   "execution_count": 11,
   "metadata": {},
   "outputs": [
    {
     "data": {
      "text/plain": [
       "array([-0.038194, -0.24487 ,  0.72812 , -0.39961 ,  0.083172,  0.043953,\n",
       "       -0.39141 ,  0.3344  , -0.57545 ,  0.087459,  0.28787 , -0.06731 ,\n",
       "        0.30906 , -0.26384 , -0.13231 , -0.20757 ,  0.33395 , -0.33848 ,\n",
       "       -0.31743 , -0.48336 ,  0.1464  , -0.37304 ,  0.34577 ,  0.052041,\n",
       "        0.44946 , -0.46971 ,  0.02628 , -0.54155 , -0.15518 , -0.14107 ,\n",
       "       -0.039722,  0.28277 ,  0.14393 ,  0.23464 , -0.31021 ,  0.086173,\n",
       "        0.20397 ,  0.52624 ,  0.17164 , -0.082378, -0.71787 , -0.41531 ,\n",
       "        0.20335 , -0.12763 ,  0.41367 ,  0.55187 ,  0.57908 , -0.33477 ,\n",
       "       -0.36559 , -0.54857 , -0.062892,  0.26584 ,  0.30205 ,  0.99775 ,\n",
       "       -0.80481 , -3.0243  ,  0.01254 , -0.36942 ,  2.2167  ,  0.72201 ,\n",
       "       -0.24978 ,  0.92136 ,  0.034514,  0.46745 ,  1.1079  , -0.19358 ,\n",
       "       -0.074575,  0.23353 , -0.052062, -0.22044 ,  0.057162, -0.15806 ,\n",
       "       -0.30798 , -0.41625 ,  0.37972 ,  0.15006 , -0.53212 , -0.2055  ,\n",
       "       -1.2526  ,  0.071624,  0.70565 ,  0.49744 , -0.42063 ,  0.26148 ,\n",
       "       -1.538   , -0.30223 , -0.073438, -0.28312 ,  0.37104 , -0.25217 ,\n",
       "        0.016215, -0.017099, -0.38984 ,  0.87424 , -0.72569 , -0.51058 ,\n",
       "       -0.52028 , -0.1459  ,  0.8278  ,  0.27062 ], dtype=float32)"
      ]
     },
     "execution_count": 11,
     "metadata": {},
     "output_type": "execute_result"
    }
   ],
   "source": [
    "embeddings_index[idx2word[0]]"
   ]
  },
  {
   "cell_type": "code",
   "execution_count": 12,
   "metadata": {},
   "outputs": [
    {
     "data": {
      "text/plain": [
       "(400000, 400001)"
      ]
     },
     "execution_count": 12,
     "metadata": {},
     "output_type": "execute_result"
    }
   ],
   "source": [
    "word2idx[\"PAD\"], word2idx[\"UNK\"]"
   ]
  },
  {
   "cell_type": "code",
   "execution_count": 13,
   "metadata": {},
   "outputs": [
    {
     "data": {
      "text/plain": [
       "('PAD', 'UNK')"
      ]
     },
     "execution_count": 13,
     "metadata": {},
     "output_type": "execute_result"
    }
   ],
   "source": [
    "idx2word[400000], idx2word[400001]"
   ]
  },
  {
   "cell_type": "code",
   "execution_count": 14,
   "metadata": {},
   "outputs": [
    {
     "data": {
      "text/plain": [
       "array([0., 0., 0., 0., 0., 0., 0., 0., 0., 0., 0., 0., 0., 0., 0., 0., 0.,\n",
       "       0., 0., 0., 0., 0., 0., 0., 0., 0., 0., 0., 0., 0., 0., 0., 0., 0.,\n",
       "       0., 0., 0., 0., 0., 0., 0., 0., 0., 0., 0., 0., 0., 0., 0., 0., 0.,\n",
       "       0., 0., 0., 0., 0., 0., 0., 0., 0., 0., 0., 0., 0., 0., 0., 0., 0.,\n",
       "       0., 0., 0., 0., 0., 0., 0., 0., 0., 0., 0., 0., 0., 0., 0., 0., 0.,\n",
       "       0., 0., 0., 0., 0., 0., 0., 0., 0., 0., 0., 0., 0., 0., 0.],\n",
       "      dtype=float32)"
      ]
     },
     "execution_count": 14,
     "metadata": {},
     "output_type": "execute_result"
    }
   ],
   "source": [
    "embeddings_index[\"PAD\"]"
   ]
  },
  {
   "cell_type": "code",
   "execution_count": 15,
   "metadata": {},
   "outputs": [
    {
     "data": {
      "text/plain": [
       "array([0., 0., 0., 0., 0., 0., 0., 0., 0., 0., 0., 0., 0., 0., 0., 0., 0.,\n",
       "       0., 0., 0., 0., 0., 0., 0., 0., 0., 0., 0., 0., 0., 0., 0., 0., 0.,\n",
       "       0., 0., 0., 0., 0., 0., 0., 0., 0., 0., 0., 0., 0., 0., 0., 0., 0.,\n",
       "       0., 0., 0., 0., 0., 0., 0., 0., 0., 0., 0., 0., 0., 0., 0., 0., 0.,\n",
       "       0., 0., 0., 0., 0., 0., 0., 0., 0., 0., 0., 0., 0., 0., 0., 0., 0.,\n",
       "       0., 0., 0., 0., 0., 0., 0., 0., 0., 0., 0., 0., 0., 0., 0.],\n",
       "      dtype=float32)"
      ]
     },
     "execution_count": 15,
     "metadata": {},
     "output_type": "execute_result"
    }
   ],
   "source": [
    "embeddings_index[idx2word[400000]]"
   ]
  },
  {
   "cell_type": "code",
   "execution_count": 16,
   "metadata": {},
   "outputs": [
    {
     "data": {
      "text/plain": [
       "array([0., 0., 0., 0., 0., 0., 0., 0., 0., 0., 0., 0., 0., 0., 0., 0., 0.,\n",
       "       0., 0., 0., 0., 0., 0., 0., 0., 0., 0., 0., 0., 0., 0., 0., 0., 0.,\n",
       "       0., 0., 0., 0., 0., 0., 0., 0., 0., 0., 0., 0., 0., 0., 0., 0., 0.,\n",
       "       0., 0., 0., 0., 0., 0., 0., 0., 0., 0., 0., 0., 0., 0., 0., 0., 0.,\n",
       "       0., 0., 0., 0., 0., 0., 0., 0., 0., 0., 0., 0., 0., 0., 0., 0., 0.,\n",
       "       0., 0., 0., 0., 0., 0., 0., 0., 0., 0., 0., 0., 0., 0., 0.],\n",
       "      dtype=float32)"
      ]
     },
     "execution_count": 16,
     "metadata": {},
     "output_type": "execute_result"
    }
   ],
   "source": [
    "embeddings_index[\"UNK\"]"
   ]
  },
  {
   "cell_type": "code",
   "execution_count": 17,
   "metadata": {},
   "outputs": [
    {
     "data": {
      "text/plain": [
       "array([0., 0., 0., 0., 0., 0., 0., 0., 0., 0., 0., 0., 0., 0., 0., 0., 0.,\n",
       "       0., 0., 0., 0., 0., 0., 0., 0., 0., 0., 0., 0., 0., 0., 0., 0., 0.,\n",
       "       0., 0., 0., 0., 0., 0., 0., 0., 0., 0., 0., 0., 0., 0., 0., 0., 0.,\n",
       "       0., 0., 0., 0., 0., 0., 0., 0., 0., 0., 0., 0., 0., 0., 0., 0., 0.,\n",
       "       0., 0., 0., 0., 0., 0., 0., 0., 0., 0., 0., 0., 0., 0., 0., 0., 0.,\n",
       "       0., 0., 0., 0., 0., 0., 0., 0., 0., 0., 0., 0., 0., 0., 0.],\n",
       "      dtype=float32)"
      ]
     },
     "execution_count": 17,
     "metadata": {},
     "output_type": "execute_result"
    }
   ],
   "source": [
    "embeddings_index[idx2word[400001]]"
   ]
  },
  {
   "cell_type": "code",
   "execution_count": 18,
   "metadata": {},
   "outputs": [],
   "source": [
    "EMBEDDING_DIM = 100"
   ]
  },
  {
   "cell_type": "code",
   "execution_count": 19,
   "metadata": {},
   "outputs": [],
   "source": [
    "embedding_matrix = np.zeros((len(embeddings_index), EMBEDDING_DIM))"
   ]
  },
  {
   "cell_type": "code",
   "execution_count": 20,
   "metadata": {},
   "outputs": [
    {
     "data": {
      "text/plain": [
       "(400002, 100)"
      ]
     },
     "execution_count": 20,
     "metadata": {},
     "output_type": "execute_result"
    }
   ],
   "source": [
    "embedding_matrix.shape"
   ]
  },
  {
   "cell_type": "code",
   "execution_count": 21,
   "metadata": {},
   "outputs": [],
   "source": [
    "for word, index in word2idx.items():\n",
    "    \n",
    "    embedding_vector = embeddings_index.get(word)\n",
    "    \n",
    "    if embedding_vector is not None:\n",
    "        # words not found in embedding index will be all-zeros.\n",
    "        embedding_matrix[index] = embedding_vector"
   ]
  },
  {
   "cell_type": "code",
   "execution_count": 22,
   "metadata": {},
   "outputs": [
    {
     "data": {
      "text/plain": [
       "array([-0.038194  , -0.24487001,  0.72812003, -0.39961001,  0.083172  ,\n",
       "        0.043953  , -0.39140999,  0.3344    , -0.57545   ,  0.087459  ,\n",
       "        0.28786999, -0.06731   ,  0.30906001, -0.26383999, -0.13231   ,\n",
       "       -0.20757   ,  0.33395001, -0.33848   , -0.31742999, -0.48335999,\n",
       "        0.1464    , -0.37303999,  0.34577   ,  0.052041  ,  0.44946   ,\n",
       "       -0.46970999,  0.02628   , -0.54154998, -0.15518001, -0.14106999,\n",
       "       -0.039722  ,  0.28277001,  0.14393   ,  0.23464   , -0.31020999,\n",
       "        0.086173  ,  0.20397   ,  0.52623999,  0.17163999, -0.082378  ,\n",
       "       -0.71787   , -0.41531   ,  0.20334999, -0.12763   ,  0.41367   ,\n",
       "        0.55186999,  0.57907999, -0.33476999, -0.36559001, -0.54856998,\n",
       "       -0.062892  ,  0.26583999,  0.30204999,  0.99774998, -0.80480999,\n",
       "       -3.0243001 ,  0.01254   , -0.36941999,  2.21670008,  0.72201002,\n",
       "       -0.24978   ,  0.92136002,  0.034514  ,  0.46744999,  1.10790002,\n",
       "       -0.19358   , -0.074575  ,  0.23353   , -0.052062  , -0.22044   ,\n",
       "        0.057162  , -0.15806   , -0.30798   , -0.41624999,  0.37972   ,\n",
       "        0.15006   , -0.53211999, -0.20550001, -1.25259995,  0.071624  ,\n",
       "        0.70564997,  0.49744001, -0.42063001,  0.26148   , -1.53799999,\n",
       "       -0.30223   , -0.073438  , -0.28312001,  0.37103999, -0.25217   ,\n",
       "        0.016215  , -0.017099  , -0.38984001,  0.87423998, -0.72569001,\n",
       "       -0.51058   , -0.52028   , -0.1459    ,  0.82779998,  0.27061999])"
      ]
     },
     "execution_count": 22,
     "metadata": {},
     "output_type": "execute_result"
    }
   ],
   "source": [
    "embedding_matrix[0]"
   ]
  },
  {
   "cell_type": "code",
   "execution_count": 23,
   "metadata": {},
   "outputs": [
    {
     "data": {
      "text/plain": [
       "array([-0.95967001,  0.30794999,  0.90052003,  1.03639996,  0.0034906 ,\n",
       "       -0.80757999, -1.13900006,  0.81108999, -0.67856997,  0.52609003,\n",
       "       -0.072252  , -0.75612998,  0.52846998,  1.0927    , -0.51894999,\n",
       "       -0.21335   ,  0.18184   ,  0.40037999, -0.65469998,  0.34626001,\n",
       "        0.92247999, -0.25001001,  1.17789996,  0.61005998,  0.029763  ,\n",
       "        0.43779999,  0.53647   ,  0.68826997,  0.14582001, -0.27445999,\n",
       "       -0.50288999,  1.03659999, -0.29850999, -0.32927001,  0.24944   ,\n",
       "       -0.33779001,  0.0083236 , -0.21373001, -0.45897999, -0.23441   ,\n",
       "       -1.29579997,  0.74799001,  0.78192002, -0.75643998,  0.84375   ,\n",
       "       -0.51725   ,  1.09519994,  0.51767999,  0.27906001, -0.033519  ,\n",
       "       -0.1573    ,  0.7396    ,  0.39774999,  1.13199997, -0.69278997,\n",
       "       -2.00929999, -1.17309999, -0.14204   ,  1.56579995, -0.097956  ,\n",
       "       -0.071165  , -0.18906   ,  0.037441  ,  0.48036999,  0.29247999,\n",
       "        0.92159998,  0.33285001,  0.30963001,  1.12720001,  0.19965   ,\n",
       "        0.47058001,  0.019022  , -0.27432001, -0.49781999, -0.29440999,\n",
       "        0.28578001, -0.54892999, -0.18968   , -1.31389999,  0.010304  ,\n",
       "        0.58306003, -0.19652   ,  0.099424  , -0.27645999, -0.50329   ,\n",
       "        0.12081   , -1.10119998, -0.23784   , -0.35159999,  0.36723   ,\n",
       "        0.25883999, -0.19463   , -0.27581999, -0.70491999, -0.69454002,\n",
       "        0.70624   ,  0.22830001,  0.081052  ,  0.13510001,  0.14387999])"
      ]
     },
     "execution_count": 23,
     "metadata": {},
     "output_type": "execute_result"
    }
   ],
   "source": [
    "embedding_matrix[474]"
   ]
  },
  {
   "cell_type": "markdown",
   "metadata": {},
   "source": [
    "## If you are using local machine follow following steps"
   ]
  },
  {
   "cell_type": "raw",
   "metadata": {
    "colab": {},
    "colab_type": "code",
    "id": "qYZubG-JkOJ9"
   },
   "source": [
    "# Download dataset following Kaggle competition \n",
    "https://www.kaggle.com/c/sentiment-classification-on-large-movie-review/\n",
    "    \n",
    "# Create following folder structure\n",
    "sentiment_analysis.ipynb\n",
    "data/\n",
    "    train/\n",
    "        pos/\n",
    "            *.txt\n",
    "        neg/\n",
    "            *.txt\n",
    "    test/"
   ]
  },
  {
   "cell_type": "code",
   "execution_count": 24,
   "metadata": {},
   "outputs": [
    {
     "name": "stdout",
     "output_type": "stream",
     "text": [
      "Already exists\n"
     ]
    }
   ],
   "source": [
    "print(\"Already exists\") if os.path.isdir(\"data/\") else os.mkdir(\"data/\")\n",
    "\n",
    "folder_path = \"data/\""
   ]
  },
  {
   "cell_type": "code",
   "execution_count": 25,
   "metadata": {},
   "outputs": [
    {
     "name": "stdout",
     "output_type": "stream",
     "text": [
      "Already exists\n",
      "Already exists\n"
     ]
    }
   ],
   "source": [
    "print(\"Already exists\") if os.path.isdir(folder_path + \"train/\") else os.mkdir(folder_path + \"train/\")\n",
    "print(\"Already exists\") if os.path.isdir(folder_path + \"test/\") else os.mkdir(folder_path + \"test/\")"
   ]
  },
  {
   "cell_type": "raw",
   "metadata": {},
   "source": [
    "# Now after downloading dataset from kaggle move train data into train folder & do it same for test folder & sample.csv into data folder"
   ]
  },
  {
   "cell_type": "code",
   "execution_count": 26,
   "metadata": {
    "colab": {},
    "colab_type": "code",
    "id": "Amp02u6KkQc7"
   },
   "outputs": [],
   "source": [
    "# Collect all positive review files\n",
    "pos_files = os.listdir(folder_path + \"train/pos/\")"
   ]
  },
  {
   "cell_type": "code",
   "execution_count": 27,
   "metadata": {
    "colab": {
     "base_uri": "https://localhost:8080/",
     "height": 187
    },
    "colab_type": "code",
    "executionInfo": {
     "elapsed": 4474,
     "status": "ok",
     "timestamp": 1552597902419,
     "user": {
      "displayName": "Swapnil Pote",
      "photoUrl": "https://lh3.googleusercontent.com/-AQQdybn0OPI/AAAAAAAAAAI/AAAAAAAAAAg/vn6s0gcC7To/s64/photo.jpg",
      "userId": "02950903434846970885"
     },
     "user_tz": -330
    },
    "id": "h3gzURiakZfY",
    "outputId": "1b72e091-a6d3-46b5-a9bb-ab48e939d1aa"
   },
   "outputs": [
    {
     "name": "stdout",
     "output_type": "stream",
     "text": [
      "['0_9.txt', '10000_8.txt', '10001_10.txt', '10002_7.txt', '10003_8.txt', '10004_8.txt', '10005_7.txt', '10006_7.txt', '10007_7.txt', '10008_7.txt']\n"
     ]
    }
   ],
   "source": [
    "print(pos_files[:10])"
   ]
  },
  {
   "cell_type": "code",
   "execution_count": 28,
   "metadata": {
    "colab": {},
    "colab_type": "code",
    "id": "f94iXgvukbIy"
   },
   "outputs": [],
   "source": [
    "# Collect all negative review files\n",
    "neg_files = os.listdir(folder_path + \"train/neg/\")"
   ]
  },
  {
   "cell_type": "code",
   "execution_count": 29,
   "metadata": {
    "colab": {
     "base_uri": "https://localhost:8080/",
     "height": 187
    },
    "colab_type": "code",
    "executionInfo": {
     "elapsed": 3470,
     "status": "ok",
     "timestamp": 1552597902422,
     "user": {
      "displayName": "Swapnil Pote",
      "photoUrl": "https://lh3.googleusercontent.com/-AQQdybn0OPI/AAAAAAAAAAI/AAAAAAAAAAg/vn6s0gcC7To/s64/photo.jpg",
      "userId": "02950903434846970885"
     },
     "user_tz": -330
    },
    "id": "Bx83S2Q4kgzB",
    "outputId": "a62c588e-c78c-40b4-b039-f88723112f26"
   },
   "outputs": [
    {
     "name": "stdout",
     "output_type": "stream",
     "text": [
      "['0_3.txt', '10000_4.txt', '10001_4.txt', '10002_1.txt', '10003_1.txt', '10004_3.txt', '10005_3.txt', '10006_4.txt', '10007_1.txt', '10008_2.txt']\n"
     ]
    }
   ],
   "source": [
    "print(neg_files[:10])"
   ]
  },
  {
   "cell_type": "code",
   "execution_count": 30,
   "metadata": {},
   "outputs": [
    {
     "name": "stdout",
     "output_type": "stream",
     "text": [
      "12500 12500\n"
     ]
    }
   ],
   "source": [
    "# Total number of files positive & negative i.e. equals to total number of reviews\n",
    "print(len(pos_files), len(neg_files))"
   ]
  },
  {
   "cell_type": "code",
   "execution_count": 31,
   "metadata": {
    "colab": {},
    "colab_type": "code",
    "id": "-8eqRFq-kiLz"
   },
   "outputs": [],
   "source": [
    "# Put all text data inside X & label data inside Y\n",
    "X = []\n",
    "Y = [] # positive = 1 & negative = 0"
   ]
  },
  {
   "cell_type": "code",
   "execution_count": 32,
   "metadata": {
    "colab": {
     "base_uri": "https://localhost:8080/",
     "height": 68
    },
    "colab_type": "code",
    "executionInfo": {
     "elapsed": 3668,
     "status": "ok",
     "timestamp": 1552597904120,
     "user": {
      "displayName": "Swapnil Pote",
      "photoUrl": "https://lh3.googleusercontent.com/-AQQdybn0OPI/AAAAAAAAAAI/AAAAAAAAAAg/vn6s0gcC7To/s64/photo.jpg",
      "userId": "02950903434846970885"
     },
     "user_tz": -330
    },
    "id": "U54tMNifmHot",
    "outputId": "8d32e1c8-4f11-4dcd-80e3-424ac517700a"
   },
   "outputs": [
    {
     "name": "stderr",
     "output_type": "stream",
     "text": [
      "[nltk_data] Downloading package punkt to\n",
      "[nltk_data]     /Users/swapnilpote/nltk_data...\n",
      "[nltk_data]   Package punkt is already up-to-date!\n"
     ]
    },
    {
     "data": {
      "text/plain": [
       "True"
      ]
     },
     "execution_count": 32,
     "metadata": {},
     "output_type": "execute_result"
    }
   ],
   "source": [
    "# Download tokenizer 'punket' of nltk library\n",
    "nltk.download('punkt')"
   ]
  },
  {
   "cell_type": "code",
   "execution_count": 33,
   "metadata": {
    "colab": {},
    "colab_type": "code",
    "id": "vzRHYnOBkmMS"
   },
   "outputs": [],
   "source": [
    "# Read all positive reviews & put inside X & it's respective label inside Y\n",
    "for file in pos_files:\n",
    "    with open(folder_path + \"train/pos/\" + file, \"r\") as f:\n",
    "        sentence = f.readline().lower()\n",
    "        tokens = nltk.word_tokenize(sentence)\n",
    "        X.append(tokens)\n",
    "        Y.append(1)"
   ]
  },
  {
   "cell_type": "code",
   "execution_count": 34,
   "metadata": {
    "colab": {
     "base_uri": "https://localhost:8080/",
     "height": 34
    },
    "colab_type": "code",
    "executionInfo": {
     "elapsed": 29106,
     "status": "ok",
     "timestamp": 1552597930534,
     "user": {
      "displayName": "Swapnil Pote",
      "photoUrl": "https://lh3.googleusercontent.com/-AQQdybn0OPI/AAAAAAAAAAI/AAAAAAAAAAg/vn6s0gcC7To/s64/photo.jpg",
      "userId": "02950903434846970885"
     },
     "user_tz": -330
    },
    "id": "4K1KIDTEmEYj",
    "outputId": "b8f6d23d-4305-4fa9-d9e8-3aee2bf66391"
   },
   "outputs": [
    {
     "data": {
      "text/plain": [
       "(12500, 12500)"
      ]
     },
     "execution_count": 34,
     "metadata": {},
     "output_type": "execute_result"
    }
   ],
   "source": [
    "# Length X, Y\n",
    "len(X), len(Y)"
   ]
  },
  {
   "cell_type": "code",
   "execution_count": 35,
   "metadata": {
    "colab": {
     "base_uri": "https://localhost:8080/",
     "height": 54
    },
    "colab_type": "code",
    "executionInfo": {
     "elapsed": 28563,
     "status": "ok",
     "timestamp": 1552597930535,
     "user": {
      "displayName": "Swapnil Pote",
      "photoUrl": "https://lh3.googleusercontent.com/-AQQdybn0OPI/AAAAAAAAAAI/AAAAAAAAAAg/vn6s0gcC7To/s64/photo.jpg",
      "userId": "02950903434846970885"
     },
     "user_tz": -330
    },
    "id": "3eZvIDDTmrtG",
    "outputId": "420dd2c7-6af9-4d8a-e555-68c2a9e982e1"
   },
   "outputs": [
    {
     "name": "stdout",
     "output_type": "stream",
     "text": [
      "[['bromwell', 'high', 'is', 'a', 'cartoon', 'comedy', '.', 'it', 'ran', 'at', 'the', 'same', 'time', 'as', 'some', 'other', 'programs', 'about', 'school', 'life', ',', 'such', 'as', '``', 'teachers', \"''\", '.', 'my', '35', 'years', 'in', 'the', 'teaching', 'profession', 'lead', 'me', 'to', 'believe', 'that', 'bromwell', 'high', \"'s\", 'satire', 'is', 'much', 'closer', 'to', 'reality', 'than', 'is', '``', 'teachers', \"''\", '.', 'the', 'scramble', 'to', 'survive', 'financially', ',', 'the', 'insightful', 'students', 'who', 'can', 'see', 'right', 'through', 'their', 'pathetic', 'teachers', \"'\", 'pomp', ',', 'the', 'pettiness', 'of', 'the', 'whole', 'situation', ',', 'all', 'remind', 'me', 'of', 'the', 'schools', 'i', 'knew', 'and', 'their', 'students', '.', 'when', 'i', 'saw', 'the', 'episode', 'in', 'which', 'a', 'student', 'repeatedly', 'tried', 'to', 'burn', 'down', 'the', 'school', ',', 'i', 'immediately', 'recalled', '...', '...', '...', 'at', '...', '...', '...', '.', 'high', '.', 'a', 'classic', 'line', ':', 'inspector', ':', 'i', \"'m\", 'here', 'to', 'sack', 'one', 'of', 'your', 'teachers', '.', 'student', ':', 'welcome', 'to', 'bromwell', 'high', '.', 'i', 'expect', 'that', 'many', 'adults', 'of', 'my', 'age', 'think', 'that', 'bromwell', 'high', 'is', 'far', 'fetched', '.', 'what', 'a', 'pity', 'that', 'it', 'is', \"n't\", '!'], ['homelessness', '(', 'or', 'houselessness', 'as', 'george', 'carlin', 'stated', ')', 'has', 'been', 'an', 'issue', 'for', 'years', 'but', 'never', 'a', 'plan', 'to', 'help', 'those', 'on', 'the', 'street', 'that', 'were', 'once', 'considered', 'human', 'who', 'did', 'everything', 'from', 'going', 'to', 'school', ',', 'work', ',', 'or', 'vote', 'for', 'the', 'matter', '.', 'most', 'people', 'think', 'of', 'the', 'homeless', 'as', 'just', 'a', 'lost', 'cause', 'while', 'worrying', 'about', 'things', 'such', 'as', 'racism', ',', 'the', 'war', 'on', 'iraq', ',', 'pressuring', 'kids', 'to', 'succeed', ',', 'technology', ',', 'the', 'elections', ',', 'inflation', ',', 'or', 'worrying', 'if', 'they', \"'ll\", 'be', 'next', 'to', 'end', 'up', 'on', 'the', 'streets.', '<', 'br', '/', '>', '<', 'br', '/', '>', 'but', 'what', 'if', 'you', 'were', 'given', 'a', 'bet', 'to', 'live', 'on', 'the', 'streets', 'for', 'a', 'month', 'without', 'the', 'luxuries', 'you', 'once', 'had', 'from', 'a', 'home', ',', 'the', 'entertainment', 'sets', ',', 'a', 'bathroom', ',', 'pictures', 'on', 'the', 'wall', ',', 'a', 'computer', ',', 'and', 'everything', 'you', 'once', 'treasure', 'to', 'see', 'what', 'it', \"'s\", 'like', 'to', 'be', 'homeless', '?', 'that', 'is', 'goddard', 'bolt', \"'s\", 'lesson.', '<', 'br', '/', '>', '<', 'br', '/', '>', 'mel', 'brooks', '(', 'who', 'directs', ')', 'who', 'stars', 'as', 'bolt', 'plays', 'a', 'rich', 'man', 'who', 'has', 'everything', 'in', 'the', 'world', 'until', 'deciding', 'to', 'make', 'a', 'bet', 'with', 'a', 'sissy', 'rival', '(', 'jeffery', 'tambor', ')', 'to', 'see', 'if', 'he', 'can', 'live', 'in', 'the', 'streets', 'for', 'thirty', 'days', 'without', 'the', 'luxuries', ';', 'if', 'bolt', 'succeeds', ',', 'he', 'can', 'do', 'what', 'he', 'wants', 'with', 'a', 'future', 'project', 'of', 'making', 'more', 'buildings', '.', 'the', 'bet', \"'s\", 'on', 'where', 'bolt', 'is', 'thrown', 'on', 'the', 'street', 'with', 'a', 'bracelet', 'on', 'his', 'leg', 'to', 'monitor', 'his', 'every', 'move', 'where', 'he', 'ca', \"n't\", 'step', 'off', 'the', 'sidewalk', '.', 'he', \"'s\", 'given', 'the', 'nickname', 'pepto', 'by', 'a', 'vagrant', 'after', 'it', \"'s\", 'written', 'on', 'his', 'forehead', 'where', 'bolt', 'meets', 'other', 'characters', 'including', 'a', 'woman', 'by', 'the', 'name', 'of', 'molly', '(', 'lesley', 'ann', 'warren', ')', 'an', 'ex-dancer', 'who', 'got', 'divorce', 'before', 'losing', 'her', 'home', ',', 'and', 'her', 'pals', 'sailor', '(', 'howard', 'morris', ')', 'and', 'fumes', '(', 'teddy', 'wilson', ')', 'who', 'are', 'already', 'used', 'to', 'the', 'streets', '.', 'they', \"'re\", 'survivors', '.', 'bolt', 'is', \"n't\", '.', 'he', \"'s\", 'not', 'used', 'to', 'reaching', 'mutual', 'agreements', 'like', 'he', 'once', 'did', 'when', 'being', 'rich', 'where', 'it', \"'s\", 'fight', 'or', 'flight', ',', 'kill', 'or', 'be', 'killed.', '<', 'br', '/', '>', '<', 'br', '/', '>', 'while', 'the', 'love', 'connection', 'between', 'molly', 'and', 'bolt', 'was', \"n't\", 'necessary', 'to', 'plot', ',', 'i', 'found', '``', 'life', 'stinks', \"''\", 'to', 'be', 'one', 'of', 'mel', 'brooks', \"'\", 'observant', 'films', 'where', 'prior', 'to', 'being', 'a', 'comedy', ',', 'it', 'shows', 'a', 'tender', 'side', 'compared', 'to', 'his', 'slapstick', 'work', 'such', 'as', 'blazing', 'saddles', ',', 'young', 'frankenstein', ',', 'or', 'spaceballs', 'for', 'the', 'matter', ',', 'to', 'show', 'what', 'it', \"'s\", 'like', 'having', 'something', 'valuable', 'before', 'losing', 'it', 'the', 'next', 'day', 'or', 'on', 'the', 'other', 'hand', 'making', 'a', 'stupid', 'bet', 'like', 'all', 'rich', 'people', 'do', 'when', 'they', 'do', \"n't\", 'know', 'what', 'to', 'do', 'with', 'their', 'money', '.', 'maybe', 'they', 'should', 'give', 'it', 'to', 'the', 'homeless', 'instead', 'of', 'using', 'it', 'like', 'monopoly', 'money.', '<', 'br', '/', '>', '<', 'br', '/', '>', 'or', 'maybe', 'this', 'film', 'will', 'inspire', 'you', 'to', 'help', 'others', '.']]\n"
     ]
    }
   ],
   "source": [
    "print(X[:2])"
   ]
  },
  {
   "cell_type": "code",
   "execution_count": 36,
   "metadata": {
    "colab": {},
    "colab_type": "code",
    "id": "jprr2bN1nE38"
   },
   "outputs": [],
   "source": [
    "# Read all negative reviews & put inside X & it's respective label inside Y\n",
    "for file in neg_files:\n",
    "    with open(folder_path + \"train/neg/\" + file, \"r\") as f:\n",
    "        sentence = f.readline().lower()\n",
    "        tokens = nltk.word_tokenize(sentence)\n",
    "        X.append(tokens)\n",
    "        Y.append(0)"
   ]
  },
  {
   "cell_type": "code",
   "execution_count": 37,
   "metadata": {
    "colab": {
     "base_uri": "https://localhost:8080/",
     "height": 34
    },
    "colab_type": "code",
    "executionInfo": {
     "elapsed": 53130,
     "status": "ok",
     "timestamp": 1552597956501,
     "user": {
      "displayName": "Swapnil Pote",
      "photoUrl": "https://lh3.googleusercontent.com/-AQQdybn0OPI/AAAAAAAAAAI/AAAAAAAAAAg/vn6s0gcC7To/s64/photo.jpg",
      "userId": "02950903434846970885"
     },
     "user_tz": -330
    },
    "id": "bFqEjjB2nQJJ",
    "outputId": "5e7205e7-de35-41b6-ce17-f57bed82b7b3"
   },
   "outputs": [
    {
     "data": {
      "text/plain": [
       "(25000, 25000)"
      ]
     },
     "execution_count": 37,
     "metadata": {},
     "output_type": "execute_result"
    }
   ],
   "source": [
    "# Length X, Y\n",
    "len(X), len(Y)"
   ]
  },
  {
   "cell_type": "code",
   "execution_count": 38,
   "metadata": {
    "colab": {},
    "colab_type": "code",
    "id": "9rJp7miMncHi"
   },
   "outputs": [],
   "source": [
    "# Put data inside pandas dataframe for some analysis\n",
    "dataset = pd.DataFrame({\"Sentence\": X, \"Label\": Y})"
   ]
  },
  {
   "cell_type": "code",
   "execution_count": 39,
   "metadata": {
    "colab": {
     "base_uri": "https://localhost:8080/",
     "height": 359
    },
    "colab_type": "code",
    "executionInfo": {
     "elapsed": 52661,
     "status": "ok",
     "timestamp": 1552597956511,
     "user": {
      "displayName": "Swapnil Pote",
      "photoUrl": "https://lh3.googleusercontent.com/-AQQdybn0OPI/AAAAAAAAAAI/AAAAAAAAAAg/vn6s0gcC7To/s64/photo.jpg",
      "userId": "02950903434846970885"
     },
     "user_tz": -330
    },
    "id": "ExVsGaGonfkB",
    "outputId": "fddadc26-f357-4217-eebf-5d18155478f4"
   },
   "outputs": [
    {
     "data": {
      "text/html": [
       "<div>\n",
       "<style scoped>\n",
       "    .dataframe tbody tr th:only-of-type {\n",
       "        vertical-align: middle;\n",
       "    }\n",
       "\n",
       "    .dataframe tbody tr th {\n",
       "        vertical-align: top;\n",
       "    }\n",
       "\n",
       "    .dataframe thead th {\n",
       "        text-align: right;\n",
       "    }\n",
       "</style>\n",
       "<table border=\"1\" class=\"dataframe\">\n",
       "  <thead>\n",
       "    <tr style=\"text-align: right;\">\n",
       "      <th></th>\n",
       "      <th>Sentence</th>\n",
       "      <th>Label</th>\n",
       "    </tr>\n",
       "  </thead>\n",
       "  <tbody>\n",
       "    <tr>\n",
       "      <th>0</th>\n",
       "      <td>[bromwell, high, is, a, cartoon, comedy, ., it...</td>\n",
       "      <td>1</td>\n",
       "    </tr>\n",
       "    <tr>\n",
       "      <th>1</th>\n",
       "      <td>[homelessness, (, or, houselessness, as, georg...</td>\n",
       "      <td>1</td>\n",
       "    </tr>\n",
       "    <tr>\n",
       "      <th>2</th>\n",
       "      <td>[brilliant, over-acting, by, lesley, ann, warr...</td>\n",
       "      <td>1</td>\n",
       "    </tr>\n",
       "    <tr>\n",
       "      <th>3</th>\n",
       "      <td>[this, is, easily, the, most, underrated, film...</td>\n",
       "      <td>1</td>\n",
       "    </tr>\n",
       "    <tr>\n",
       "      <th>4</th>\n",
       "      <td>[this, is, not, the, typical, mel, brooks, fil...</td>\n",
       "      <td>1</td>\n",
       "    </tr>\n",
       "    <tr>\n",
       "      <th>5</th>\n",
       "      <td>[this, is, n't, the, comedic, robin, williams,...</td>\n",
       "      <td>1</td>\n",
       "    </tr>\n",
       "    <tr>\n",
       "      <th>6</th>\n",
       "      <td>[yes, its, an, art, ..., to, successfully, mak...</td>\n",
       "      <td>1</td>\n",
       "    </tr>\n",
       "    <tr>\n",
       "      <th>7</th>\n",
       "      <td>[in, this, ``, critically, acclaimed, psycholo...</td>\n",
       "      <td>1</td>\n",
       "    </tr>\n",
       "    <tr>\n",
       "      <th>8</th>\n",
       "      <td>[the, night, listener, (, 2006, ), **1/2, robi...</td>\n",
       "      <td>1</td>\n",
       "    </tr>\n",
       "    <tr>\n",
       "      <th>9</th>\n",
       "      <td>[you, know, ,, robin, williams, ,, god, bless,...</td>\n",
       "      <td>1</td>\n",
       "    </tr>\n",
       "  </tbody>\n",
       "</table>\n",
       "</div>"
      ],
      "text/plain": [
       "                                            Sentence  Label\n",
       "0  [bromwell, high, is, a, cartoon, comedy, ., it...      1\n",
       "1  [homelessness, (, or, houselessness, as, georg...      1\n",
       "2  [brilliant, over-acting, by, lesley, ann, warr...      1\n",
       "3  [this, is, easily, the, most, underrated, film...      1\n",
       "4  [this, is, not, the, typical, mel, brooks, fil...      1\n",
       "5  [this, is, n't, the, comedic, robin, williams,...      1\n",
       "6  [yes, its, an, art, ..., to, successfully, mak...      1\n",
       "7  [in, this, ``, critically, acclaimed, psycholo...      1\n",
       "8  [the, night, listener, (, 2006, ), **1/2, robi...      1\n",
       "9  [you, know, ,, robin, williams, ,, god, bless,...      1"
      ]
     },
     "execution_count": 39,
     "metadata": {},
     "output_type": "execute_result"
    }
   ],
   "source": [
    "# print top 10 sentences\n",
    "dataset.head(10)"
   ]
  },
  {
   "cell_type": "code",
   "execution_count": 40,
   "metadata": {},
   "outputs": [
    {
     "data": {
      "text/html": [
       "<div>\n",
       "<style scoped>\n",
       "    .dataframe tbody tr th:only-of-type {\n",
       "        vertical-align: middle;\n",
       "    }\n",
       "\n",
       "    .dataframe tbody tr th {\n",
       "        vertical-align: top;\n",
       "    }\n",
       "\n",
       "    .dataframe thead th {\n",
       "        text-align: right;\n",
       "    }\n",
       "</style>\n",
       "<table border=\"1\" class=\"dataframe\">\n",
       "  <thead>\n",
       "    <tr style=\"text-align: right;\">\n",
       "      <th></th>\n",
       "      <th>Sentence</th>\n",
       "      <th>Label</th>\n",
       "    </tr>\n",
       "  </thead>\n",
       "  <tbody>\n",
       "    <tr>\n",
       "      <th>24990</th>\n",
       "      <td>[yeti, :, curse, of, the, snow, demon, starts,...</td>\n",
       "      <td>0</td>\n",
       "    </tr>\n",
       "    <tr>\n",
       "      <th>24991</th>\n",
       "      <td>[hmmm, ,, a, sports, team, is, in, a, plane, c...</td>\n",
       "      <td>0</td>\n",
       "    </tr>\n",
       "    <tr>\n",
       "      <th>24992</th>\n",
       "      <td>[i, saw, this, piece, of, garbage, on, amc, la...</td>\n",
       "      <td>0</td>\n",
       "    </tr>\n",
       "    <tr>\n",
       "      <th>24993</th>\n",
       "      <td>[although, the, production, and, jerry, jameso...</td>\n",
       "      <td>0</td>\n",
       "    </tr>\n",
       "    <tr>\n",
       "      <th>24994</th>\n",
       "      <td>[capt, ., gallagher, (, lemmon, ), and, flight...</td>\n",
       "      <td>0</td>\n",
       "    </tr>\n",
       "    <tr>\n",
       "      <th>24995</th>\n",
       "      <td>[towards, the, end, of, the, movie, ,, i, felt...</td>\n",
       "      <td>0</td>\n",
       "    </tr>\n",
       "    <tr>\n",
       "      <th>24996</th>\n",
       "      <td>[this, is, the, kind, of, movie, that, my, ene...</td>\n",
       "      <td>0</td>\n",
       "    </tr>\n",
       "    <tr>\n",
       "      <th>24997</th>\n",
       "      <td>[i, saw, 'descent, ', last, night, at, the, st...</td>\n",
       "      <td>0</td>\n",
       "    </tr>\n",
       "    <tr>\n",
       "      <th>24998</th>\n",
       "      <td>[some, films, that, you, pick, up, for, a, pou...</td>\n",
       "      <td>0</td>\n",
       "    </tr>\n",
       "    <tr>\n",
       "      <th>24999</th>\n",
       "      <td>[this, is, one, of, the, dumbest, films, ,, i,...</td>\n",
       "      <td>0</td>\n",
       "    </tr>\n",
       "  </tbody>\n",
       "</table>\n",
       "</div>"
      ],
      "text/plain": [
       "                                                Sentence  Label\n",
       "24990  [yeti, :, curse, of, the, snow, demon, starts,...      0\n",
       "24991  [hmmm, ,, a, sports, team, is, in, a, plane, c...      0\n",
       "24992  [i, saw, this, piece, of, garbage, on, amc, la...      0\n",
       "24993  [although, the, production, and, jerry, jameso...      0\n",
       "24994  [capt, ., gallagher, (, lemmon, ), and, flight...      0\n",
       "24995  [towards, the, end, of, the, movie, ,, i, felt...      0\n",
       "24996  [this, is, the, kind, of, movie, that, my, ene...      0\n",
       "24997  [i, saw, 'descent, ', last, night, at, the, st...      0\n",
       "24998  [some, films, that, you, pick, up, for, a, pou...      0\n",
       "24999  [this, is, one, of, the, dumbest, films, ,, i,...      0"
      ]
     },
     "execution_count": 40,
     "metadata": {},
     "output_type": "execute_result"
    }
   ],
   "source": [
    "# print bottom 10 sentences\n",
    "dataset.tail(10)"
   ]
  },
  {
   "cell_type": "code",
   "execution_count": 41,
   "metadata": {
    "colab": {
     "base_uri": "https://localhost:8080/",
     "height": 364
    },
    "colab_type": "code",
    "executionInfo": {
     "elapsed": 52918,
     "status": "ok",
     "timestamp": 1552597956957,
     "user": {
      "displayName": "Swapnil Pote",
      "photoUrl": "https://lh3.googleusercontent.com/-AQQdybn0OPI/AAAAAAAAAAI/AAAAAAAAAAg/vn6s0gcC7To/s64/photo.jpg",
      "userId": "02950903434846970885"
     },
     "user_tz": -330
    },
    "id": "lqSNDUhypXYz",
    "outputId": "530c888c-df65-48c2-8eb7-37db6c320f85"
   },
   "outputs": [
    {
     "data": {
      "text/plain": [
       "<matplotlib.axes._subplots.AxesSubplot at 0x1589e6cc0>"
      ]
     },
     "execution_count": 41,
     "metadata": {},
     "output_type": "execute_result"
    },
    {
     "data": {
      "image/png": "[encoded data removed]",
      "text/plain": [
       "<Figure size 2160x720 with 1 Axes>"
      ]
     },
     "metadata": {
      "needs_background": "light"
     },
     "output_type": "display_data"
    }
   ],
   "source": [
    "# Is there any class imbalance?\n",
    "dataset[\"Label\"].value_counts().plot(kind=\"barh\")"
   ]
  },
  {
   "cell_type": "code",
   "execution_count": 42,
   "metadata": {
    "colab": {},
    "colab_type": "code",
    "id": "W7-wl3yhzNJY"
   },
   "outputs": [],
   "source": [
    "# Calculate all sentences individual lengths\n",
    "sentences_len = [len(sent) for sent in X]"
   ]
  },
  {
   "cell_type": "code",
   "execution_count": 43,
   "metadata": {
    "colab": {
     "base_uri": "https://localhost:8080/",
     "height": 34
    },
    "colab_type": "code",
    "executionInfo": {
     "elapsed": 52787,
     "status": "ok",
     "timestamp": 1552597959890,
     "user": {
      "displayName": "Swapnil Pote",
      "photoUrl": "https://lh3.googleusercontent.com/-AQQdybn0OPI/AAAAAAAAAAI/AAAAAAAAAAg/vn6s0gcC7To/s64/photo.jpg",
      "userId": "02950903434846970885"
     },
     "user_tz": -330
    },
    "id": "ru3PdUPavbMO",
    "outputId": "f9c69389-a78d-42ef-b78a-396a0cc5e59b"
   },
   "outputs": [
    {
     "data": {
      "text/plain": [
       "2818"
      ]
     },
     "execution_count": 43,
     "metadata": {},
     "output_type": "execute_result"
    }
   ],
   "source": [
    "# Maximum size of any particular sentence\n",
    "max_sentence_size = max(sentences_len)\n",
    "max_sentence_size"
   ]
  },
  {
   "cell_type": "code",
   "execution_count": 44,
   "metadata": {
    "colab": {
     "base_uri": "https://localhost:8080/",
     "height": 34
    },
    "colab_type": "code",
    "executionInfo": {
     "elapsed": 52585,
     "status": "ok",
     "timestamp": 1552597959893,
     "user": {
      "displayName": "Swapnil Pote",
      "photoUrl": "https://lh3.googleusercontent.com/-AQQdybn0OPI/AAAAAAAAAAI/AAAAAAAAAAg/vn6s0gcC7To/s64/photo.jpg",
      "userId": "02950903434846970885"
     },
     "user_tz": -330
    },
    "id": "dfA4JeTxxEnt",
    "outputId": "b8989728-8bf0-4634-d1df-30602a2a5210"
   },
   "outputs": [
    {
     "data": {
      "text/plain": [
       "11"
      ]
     },
     "execution_count": 44,
     "metadata": {},
     "output_type": "execute_result"
    }
   ],
   "source": [
    "# Minimum size of any particular sentence\n",
    "min_sentence_size = min(sentences_len)\n",
    "min_sentence_size"
   ]
  },
  {
   "cell_type": "code",
   "execution_count": 45,
   "metadata": {
    "colab": {
     "base_uri": "https://localhost:8080/",
     "height": 34
    },
    "colab_type": "code",
    "executionInfo": {
     "elapsed": 52391,
     "status": "ok",
     "timestamp": 1552597959894,
     "user": {
      "displayName": "Swapnil Pote",
      "photoUrl": "https://lh3.googleusercontent.com/-AQQdybn0OPI/AAAAAAAAAAI/AAAAAAAAAAg/vn6s0gcC7To/s64/photo.jpg",
      "userId": "02950903434846970885"
     },
     "user_tz": -330
    },
    "id": "uoBrQaUCxPCd",
    "outputId": "5fade563-1e39-4155-8f04-387afa3ad4bc"
   },
   "outputs": [
    {
     "data": {
      "text/plain": [
       "282"
      ]
     },
     "execution_count": 45,
     "metadata": {},
     "output_type": "execute_result"
    }
   ],
   "source": [
    "# Average size of any particular sentence\n",
    "avg_sentence_size = reduce((lambda x, y: x + y), sentences_len) // len(X)\n",
    "avg_sentence_size"
   ]
  },
  {
   "cell_type": "code",
   "execution_count": 46,
   "metadata": {
    "colab": {
     "base_uri": "https://localhost:8080/",
     "height": 609
    },
    "colab_type": "code",
    "executionInfo": {
     "elapsed": 53396,
     "status": "ok",
     "timestamp": 1552597961579,
     "user": {
      "displayName": "Swapnil Pote",
      "photoUrl": "https://lh3.googleusercontent.com/-AQQdybn0OPI/AAAAAAAAAAI/AAAAAAAAAAg/vn6s0gcC7To/s64/photo.jpg",
      "userId": "02950903434846970885"
     },
     "user_tz": -330
    },
    "id": "Wd1keXLF0hRB",
    "outputId": "3a093127-d359-4f4a-f0f3-b3c7c46a0ced"
   },
   "outputs": [
    {
     "data": {
      "text/plain": [
       "[<matplotlib.lines.Line2D at 0x15ad79780>]"
      ]
     },
     "execution_count": 46,
     "metadata": {},
     "output_type": "execute_result"
    },
    {
     "data": {
      "image/png": "[encoded data removed]",
      "text/plain": [
       "<Figure size 2160x720 with 1 Axes>"
      ]
     },
     "metadata": {
      "needs_background": "light"
     },
     "output_type": "display_data"
    }
   ],
   "source": [
    "# Let's try to see how length of sentences varies\n",
    "plt.plot(list(range(len(sentences_len))), sentences_len)"
   ]
  },
  {
   "cell_type": "code",
   "execution_count": 47,
   "metadata": {
    "colab": {},
    "colab_type": "code",
    "id": "g_YDkw8Ytyxy"
   },
   "outputs": [],
   "source": [
    "# This function convert sentences array into number array\n",
    "def num_sentence(sentences_tokens):\n",
    "    x = [[word2idx.get(word, word2idx.get(\"UNK\")) for word in sent] for sent in sentences_tokens]\n",
    "    \n",
    "    return x"
   ]
  },
  {
   "cell_type": "code",
   "execution_count": 48,
   "metadata": {
    "colab": {},
    "colab_type": "code",
    "id": "w9h-1omqvJNH"
   },
   "outputs": [],
   "source": [
    "X = num_sentence(X)"
   ]
  },
  {
   "cell_type": "code",
   "execution_count": 49,
   "metadata": {
    "colab": {
     "base_uri": "https://localhost:8080/",
     "height": 34
    },
    "colab_type": "code",
    "executionInfo": {
     "elapsed": 53259,
     "status": "ok",
     "timestamp": 1552597959889,
     "user": {
      "displayName": "Swapnil Pote",
      "photoUrl": "https://lh3.googleusercontent.com/-AQQdybn0OPI/AAAAAAAAAAI/AAAAAAAAAAg/vn6s0gcC7To/s64/photo.jpg",
      "userId": "02950903434846970885"
     },
     "user_tz": -330
    },
    "id": "90vm0B4gvMs3",
    "outputId": "cd740aac-38e3-441e-8c0c-9463e8356484"
   },
   "outputs": [
    {
     "data": {
      "text/plain": [
       "25000"
      ]
     },
     "execution_count": 49,
     "metadata": {},
     "output_type": "execute_result"
    }
   ],
   "source": [
    "len(X)"
   ]
  },
  {
   "cell_type": "code",
   "execution_count": 50,
   "metadata": {
    "colab": {},
    "colab_type": "code",
    "id": "V4GSjMCwvXTm"
   },
   "outputs": [
    {
     "name": "stdout",
     "output_type": "stream",
     "text": [
      "[[174943, 152, 14, 7, 7362, 2841, 2, 20, 1421, 22, 0, 215, 79, 19, 77, 68, 1009, 59, 164, 214, 1, 125, 19, 28, 2562, 27, 2, 192, 1678, 82, 6, 0, 3174, 8104, 410, 285, 4, 733, 12, 174943, 152, 9, 15303, 14, 181, 2386, 4, 2532, 73, 14, 28, 2562, 27, 2, 0, 14170, 4, 3981, 7980, 1, 0, 34401, 543, 38, 86, 253, 248, 131, 44, 22495, 2562, 57, 31166, 1, 0, 91887, 3, 0, 1115, 794, 1, 64, 9794, 285, 3, 0, 888, 41, 1522, 5, 44, 543, 2, 61, 41, 822, 0, 1942, 6, 42, 7, 1283, 2648, 977, 4, 6292, 135, 0, 164, 1, 41, 1040, 3151, 434, 434, 434, 22, 434, 434, 434, 2, 152, 2, 7, 2392, 331, 45, 5537, 45, 41, 472, 187, 4, 11739, 48, 3, 392, 2562, 2, 1283, 45, 3143, 4, 174943, 152, 2, 41, 1543, 12, 109, 3574, 3, 192, 464, 269, 12, 174943, 152, 14, 372, 19386, 2, 102, 7, 16214, 12, 20, 14, 70, 805], [26494, 23, 46, 400001, 19, 649, 29594, 2313, 24, 31, 51, 29, 495, 10, 82, 34, 332, 7, 394, 4, 275, 155, 13, 0, 491, 12, 35, 442, 834, 473, 38, 119, 1174, 25, 222, 4, 164, 1, 161, 1, 46, 538, 10, 0, 1120, 2, 96, 69, 269, 3, 0, 5473, 19, 120, 7, 402, 1157, 110, 10394, 59, 654, 125, 19, 7551, 1, 0, 136, 13, 233, 1, 16097, 1813, 4, 4372, 1, 732, 1, 0, 613, 1, 1597, 1, 46, 10394, 83, 39, 769, 30, 182, 4, 156, 60, 13, 0, 400001, 19795, 30410, 274, 12257, 19795, 30410, 274, 12257, 34, 102, 83, 81, 35, 454, 7, 5670, 4, 682, 13, 0, 1736, 10, 7, 229, 296, 0, 38220, 81, 442, 40, 25, 7, 163, 1, 0, 2045, 2303, 1, 7, 9515, 1, 2490, 13, 0, 1015, 1, 7, 951, 1, 5, 1174, 81, 442, 9013, 4, 253, 102, 20, 9, 117, 4, 30, 5473, 188, 12, 14, 22637, 11869, 9, 400001, 19795, 30410, 274, 12257, 19795, 30410, 274, 12257, 10464, 6469, 23, 38, 14719, 24, 38, 1569, 19, 11869, 1381, 7, 1727, 300, 38, 31, 1174, 6, 0, 85, 207, 6070, 4, 159, 7, 5670, 17, 7, 45361, 1745, 23, 36621, 87857, 24, 4, 253, 83, 18, 86, 682, 6, 0, 1736, 10, 6423, 249, 296, 0, 38220, 89, 83, 11869, 14014, 1, 18, 86, 88, 102, 18, 1025, 17, 7, 581, 716, 3, 433, 56, 1490, 2, 0, 5670, 9, 13, 111, 11869, 14, 4459, 13, 0, 491, 17, 7, 26641, 13, 26, 2231, 4, 3933, 26, 359, 483, 111, 18, 855, 70, 1065, 138, 0, 12796, 2, 18, 9, 454, 0, 7398, 126586, 21, 7, 55618, 49, 20, 9, 982, 13, 26, 17329, 111, 11869, 3346, 68, 2153, 144, 7, 787, 21, 0, 311, 3, 15307, 23, 29557, 5141, 4620, 24, 29, 400001, 38, 405, 5521, 106, 1529, 71, 163, 1, 5, 71, 22168, 11267, 23, 2506, 4239, 24, 5, 19549, 23, 13286, 2659, 24, 38, 32, 411, 180, 4, 0, 1736, 2, 39, 267, 3649, 2, 11869, 14, 70, 2, 18, 9, 36, 180, 4, 2403, 3046, 3206, 117, 18, 442, 119, 61, 134, 1727, 111, 20, 9, 838, 46, 1248, 1, 1916, 46, 30, 400001, 19795, 30410, 274, 12257, 19795, 30410, 274, 12257, 110, 0, 835, 2540, 118, 15307, 5, 11869, 15, 70, 1504, 4, 2219, 1, 41, 238, 28, 214, 40886, 27, 4, 30, 48, 3, 10464, 6469, 57, 31630, 1588, 111, 1996, 4, 134, 7, 2841, 1, 20, 970, 7, 7382, 437, 1127, 4, 26, 32736, 161, 125, 19, 19118, 52577, 1, 461, 23556, 1, 46, 210879, 10, 0, 1120, 1, 4, 273, 102, 20, 9, 117, 518, 645, 4640, 106, 1529, 20, 0, 182, 122, 46, 13, 0, 68, 823, 433, 7, 8979, 5670, 117, 64, 1727, 69, 88, 61, 39, 88, 70, 346, 102, 4, 88, 17, 44, 308, 2, 1881, 39, 189, 455, 20, 4, 0, 5473, 773, 3, 622, 20, 117, 7409, 400001, 19795, 30410, 274, 12257, 19795, 30410, 274, 12257, 46, 1881, 37, 319, 43, 11356, 81, 4, 275, 423, 2]]\n"
     ]
    }
   ],
   "source": [
    "print(X[:2])"
   ]
  },
  {
   "cell_type": "code",
   "execution_count": 51,
   "metadata": {
    "colab": {},
    "colab_type": "code",
    "id": "PPcDTRrG3ID2"
   },
   "outputs": [],
   "source": [
    "# Perform padding for sentences less then 750\n",
    "X = pad_sequences(X, maxlen = 750, padding = \"pre\", truncating = \"pre\", value = word2idx.get(\"PAD\"))"
   ]
  },
  {
   "cell_type": "code",
   "execution_count": 52,
   "metadata": {
    "colab": {
     "base_uri": "https://localhost:8080/",
     "height": 609
    },
    "colab_type": "code",
    "executionInfo": {
     "elapsed": 54156,
     "status": "ok",
     "timestamp": 1552597963527,
     "user": {
      "displayName": "Swapnil Pote",
      "photoUrl": "https://lh3.googleusercontent.com/-AQQdybn0OPI/AAAAAAAAAAI/AAAAAAAAAAg/vn6s0gcC7To/s64/photo.jpg",
      "userId": "02950903434846970885"
     },
     "user_tz": -330
    },
    "id": "aCrG0J7B3jDm",
    "outputId": "3e1b6fbb-efec-49ad-94b7-594c417fab71"
   },
   "outputs": [
    {
     "data": {
      "text/plain": [
       "[<matplotlib.lines.Line2D at 0x15cced9e8>]"
      ]
     },
     "execution_count": 52,
     "metadata": {},
     "output_type": "execute_result"
    },
    {
     "data": {
      "image/png": "[encoded data removed]",
      "text/plain": [
       "<Figure size 2160x720 with 1 Axes>"
      ]
     },
     "metadata": {
      "needs_background": "light"
     },
     "output_type": "display_data"
    }
   ],
   "source": [
    "plt.plot(list(range(len(X))), [len(sent) for sent in X])"
   ]
  },
  {
   "cell_type": "code",
   "execution_count": 53,
   "metadata": {},
   "outputs": [
    {
     "name": "stdout",
     "output_type": "stream",
     "text": [
      "[[400000 400000 400000 ...     14     70    805]\n",
      " [400000 400000 400000 ...    275    423      2]]\n"
     ]
    }
   ],
   "source": [
    "print(X[:2])"
   ]
  },
  {
   "cell_type": "code",
   "execution_count": 54,
   "metadata": {
    "colab": {},
    "colab_type": "code",
    "id": "uHPsMGTo5TkY"
   },
   "outputs": [
    {
     "data": {
      "text/plain": [
       "(25000, 750)"
      ]
     },
     "execution_count": 54,
     "metadata": {},
     "output_type": "execute_result"
    }
   ],
   "source": [
    "# let's check our data is in proper shape\n",
    "X.shape"
   ]
  },
  {
   "cell_type": "code",
   "execution_count": 55,
   "metadata": {},
   "outputs": [
    {
     "data": {
      "text/plain": [
       "(25000,)"
      ]
     },
     "execution_count": 55,
     "metadata": {},
     "output_type": "execute_result"
    }
   ],
   "source": [
    "# let's check our data is in proper shape for softmax activation function\n",
    "Y = np.array(Y)\n",
    "Y.shape"
   ]
  },
  {
   "cell_type": "code",
   "execution_count": 56,
   "metadata": {},
   "outputs": [
    {
     "data": {
      "text/plain": [
       "(25000, 2)"
      ]
     },
     "execution_count": 56,
     "metadata": {},
     "output_type": "execute_result"
    }
   ],
   "source": [
    "# Time to convert Y values into one hot encoding\n",
    "Y = to_categorical(Y)\n",
    "Y.shape"
   ]
  },
  {
   "cell_type": "code",
   "execution_count": 57,
   "metadata": {},
   "outputs": [
    {
     "name": "stdout",
     "output_type": "stream",
     "text": [
      "[[0. 1.]\n",
      " [0. 1.]]\n"
     ]
    }
   ],
   "source": [
    "print(Y[:2])"
   ]
  },
  {
   "cell_type": "markdown",
   "metadata": {},
   "source": [
    "## Now time to split dataset into train & test data"
   ]
  },
  {
   "cell_type": "code",
   "execution_count": 58,
   "metadata": {
    "colab": {},
    "colab_type": "code",
    "id": "ifvvnFXZrxo-"
   },
   "outputs": [],
   "source": [
    "# Now divide data into training & validations data\n",
    "train_x, valid_x, train_y, valid_y = train_test_split(X, Y, test_size = 0.10, random_state = 10)"
   ]
  },
  {
   "cell_type": "code",
   "execution_count": 59,
   "metadata": {
    "colab": {},
    "colab_type": "code",
    "id": "io89hA0k4qcn"
   },
   "outputs": [],
   "source": [
    "# Model input data dimensions\n",
    "word_tokens = embedding_matrix.shape[0]\n",
    "timesteps = 750\n",
    "data_dim = 100\n",
    "output_len = 2"
   ]
  },
  {
   "cell_type": "code",
   "execution_count": 60,
   "metadata": {
    "colab": {
     "base_uri": "https://localhost:8080/",
     "height": 136
    },
    "colab_type": "code",
    "executionInfo": {
     "elapsed": 52014,
     "status": "ok",
     "timestamp": 1552597963938,
     "user": {
      "displayName": "Swapnil Pote",
      "photoUrl": "https://lh3.googleusercontent.com/-AQQdybn0OPI/AAAAAAAAAAI/AAAAAAAAAAg/vn6s0gcC7To/s64/photo.jpg",
      "userId": "02950903434846970885"
     },
     "user_tz": -330
    },
    "id": "ZDbU_qLT4UZC",
    "outputId": "d88c56cf-9369-46af-e9c0-b794e08a00ed"
   },
   "outputs": [
    {
     "name": "stdout",
     "output_type": "stream",
     "text": [
      "compilation time :  0.04233074188232422\n"
     ]
    }
   ],
   "source": [
    "# Neural network architecture\n",
    "model = Sequential()\n",
    "\n",
    "model.add(Embedding(word_tokens, data_dim, input_shape = (timesteps,), mask_zero = False))\n",
    "\n",
    "model.add(LSTM(50, return_sequences = True))\n",
    "model.add(Dropout(0.2))\n",
    "\n",
    "model.add(LSTM(100, return_sequences = False))\n",
    "model.add(Dropout(0.2))\n",
    "\n",
    "model.add(Dense(output_len))\n",
    "model.add(Activation(\"softmax\"))\n",
    "\n",
    "start = time.time()\n",
    "model.compile(loss = \"categorical_crossentropy\", optimizer = \"rmsprop\", metrics = ['accuracy'])\n",
    "print ('compilation time : ', time.time() - start)"
   ]
  },
  {
   "cell_type": "code",
   "execution_count": 61,
   "metadata": {
    "colab": {
     "base_uri": "https://localhost:8080/",
     "height": 340
    },
    "colab_type": "code",
    "executionInfo": {
     "elapsed": 50416,
     "status": "ok",
     "timestamp": 1552597963940,
     "user": {
      "displayName": "Swapnil Pote",
      "photoUrl": "https://lh3.googleusercontent.com/-AQQdybn0OPI/AAAAAAAAAAI/AAAAAAAAAAg/vn6s0gcC7To/s64/photo.jpg",
      "userId": "02950903434846970885"
     },
     "user_tz": -330
    },
    "id": "1Bln2eJo5i88",
    "outputId": "75869766-d65f-4a1f-e21d-b88b310f7026"
   },
   "outputs": [
    {
     "name": "stdout",
     "output_type": "stream",
     "text": [
      "_________________________________________________________________\n",
      "Layer (type)                 Output Shape              Param #   \n",
      "=================================================================\n",
      "embedding_1 (Embedding)      (None, 750, 100)          40000200  \n",
      "_________________________________________________________________\n",
      "lstm_1 (LSTM)                (None, 750, 50)           30200     \n",
      "_________________________________________________________________\n",
      "dropout_1 (Dropout)          (None, 750, 50)           0         \n",
      "_________________________________________________________________\n",
      "lstm_2 (LSTM)                (None, 100)               60400     \n",
      "_________________________________________________________________\n",
      "dropout_2 (Dropout)          (None, 100)               0         \n",
      "_________________________________________________________________\n",
      "dense_1 (Dense)              (None, 2)                 202       \n",
      "_________________________________________________________________\n",
      "activation_1 (Activation)    (None, 2)                 0         \n",
      "=================================================================\n",
      "Total params: 40,091,002\n",
      "Trainable params: 40,091,002\n",
      "Non-trainable params: 0\n",
      "_________________________________________________________________\n"
     ]
    }
   ],
   "source": [
    "model.summary()"
   ]
  },
  {
   "cell_type": "code",
   "execution_count": 62,
   "metadata": {
    "colab": {
     "base_uri": "https://localhost:8080/",
     "height": 221
    },
    "colab_type": "code",
    "id": "pWP38eBTBaDE",
    "outputId": "147c30bd-79fa-46fd-bd06-e5668c91df11"
   },
   "outputs": [
    {
     "name": "stdout",
     "output_type": "stream",
     "text": [
      "Train on 21375 samples, validate on 1125 samples\n",
      "Epoch 1/1\n",
      "21375/21375 [==============================] - 1001s 47ms/step - loss: 0.4834 - acc: 0.7604 - val_loss: 0.3287 - val_acc: 0.8640\n"
     ]
    },
    {
     "data": {
      "text/plain": [
       "<keras.callbacks.History at 0x15ad85e48>"
      ]
     },
     "execution_count": 62,
     "metadata": {},
     "output_type": "execute_result"
    }
   ],
   "source": [
    "# Now data is in proper format let's fit it\n",
    "model.fit(train_x, train_y, batch_size = 128, epochs = 1, validation_split = 0.05, verbose = 1)"
   ]
  },
  {
   "cell_type": "code",
   "execution_count": null,
   "metadata": {},
   "outputs": [],
   "source": []
  }
 ],
 "metadata": {
  "accelerator": "GPU",
  "colab": {
   "name": "sentiment_analysis.ipynb",
   "provenance": [],
   "version": "0.3.2"
  },
  "kernelspec": {
   "display_name": "Python 3",
   "language": "python",
   "name": "python3"
  },
  "language_info": {
   "codemirror_mode": {
    "name": "ipython",
    "version": 3
   },
   "file_extension": ".py",
   "mimetype": "text/x-python",
   "name": "python",
   "nbconvert_exporter": "python",
   "pygments_lexer": "ipython3",
   "version": "3.6.5"
  }
 },
 "nbformat": 4,
 "nbformat_minor": 1
}
